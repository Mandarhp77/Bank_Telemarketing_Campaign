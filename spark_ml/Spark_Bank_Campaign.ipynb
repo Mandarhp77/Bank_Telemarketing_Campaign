{
 "cells": [
  {
   "cell_type": "code",
   "execution_count": 1,
   "id": "363f93ba",
   "metadata": {},
   "outputs": [],
   "source": [
    "import os"
   ]
  },
  {
   "cell_type": "code",
   "execution_count": 2,
   "id": "c29f810b",
   "metadata": {},
   "outputs": [],
   "source": [
    "os.chdir(r\"C:\\Users\\DELL\\Desktop\\Presentation\")"
   ]
  },
  {
   "cell_type": "code",
   "execution_count": 3,
   "id": "22aa0af9",
   "metadata": {},
   "outputs": [
    {
     "name": "stdout",
     "output_type": "stream",
     "text": [
      "Downloading bank-telemarketing-dataset.zip to C:\\Users\\DELL\\Desktop\\Presentation\n",
      "\n"
     ]
    },
    {
     "name": "stderr",
     "output_type": "stream",
     "text": [
      "\n",
      "  0%|          | 0.00/905k [00:00<?, ?B/s]\n",
      "100%|##########| 905k/905k [00:00<00:00, 6.88MB/s]\n",
      "100%|##########| 905k/905k [00:00<00:00, 6.78MB/s]\n"
     ]
    }
   ],
   "source": [
    "!kaggle datasets download -d princeganer/bank-telemarketing-dataset"
   ]
  },
  {
   "cell_type": "code",
   "execution_count": 4,
   "id": "c91bedfd",
   "metadata": {},
   "outputs": [
    {
     "name": "stdout",
     "output_type": "stream",
     "text": [
      "Archive:  bank-telemarketing-dataset.zip\n",
      "  inflating: bank-additional-full.csv  \n",
      "  inflating: bank-additional-names.txt  \n",
      "  inflating: bank-full.csv           \n",
      "  inflating: info.txt                \n"
     ]
    }
   ],
   "source": [
    "!unzip bank-telemarketing-dataset.zip"
   ]
  },
  {
   "cell_type": "code",
   "execution_count": 5,
   "id": "9fc885d4",
   "metadata": {},
   "outputs": [
    {
     "name": "stdout",
     "output_type": "stream",
     "text": [
      " Volume in drive C is Satyam\n",
      " Volume Serial Number is BAAD-0180\n",
      "\n",
      " Directory of C:\\Users\\DELL\\Desktop\\Presentation\n",
      "\n",
      "11-03-2023  09.49 AM    <DIR>          .\n",
      "11-03-2023  09.49 AM    <DIR>          ..\n",
      "11-03-2023  09.48 AM    <DIR>          .ipynb_checkpoints\n",
      "10-03-2023  08.52 AM         5,834,924 bank-additional-full.csv\n",
      "10-03-2023  08.52 AM             5,458 bank-additional-names.txt\n",
      "10-03-2023  08.52 AM         4,610,348 bank-full.csv\n",
      "11-03-2023  09.49 AM           927,049 bank-telemarketing-dataset.zip\n",
      "10-03-2023  08.52 AM                94 info.txt\n",
      "11-03-2023  09.48 AM           274,514 Spark_Bank_Campaign.ipynb\n",
      "               6 File(s)     11,652,387 bytes\n",
      "               3 Dir(s)  36,854,460,416 bytes free\n"
     ]
    }
   ],
   "source": [
    "!dir"
   ]
  },
  {
   "cell_type": "markdown",
   "id": "3c65814a",
   "metadata": {},
   "source": [
    "## Sucessfully imported data from Kaggle API"
   ]
  },
  {
   "cell_type": "markdown",
   "id": "5d7fc781",
   "metadata": {},
   "source": [
    "## Importing Libraries for further operations"
   ]
  },
  {
   "cell_type": "code",
   "execution_count": 8,
   "id": "705bd23d",
   "metadata": {},
   "outputs": [],
   "source": [
    "import pandas as pd\n",
    "import numpy as np\n",
    "from pyspark.sql import SparkSession\n",
    "from pyspark.sql.types import *\n",
    "import seaborn as sns\n",
    "import matplotlib.pyplot as plt\n",
    "from pyspark.sql.functions import when\n",
    "from pyspark.sql.functions import col, sum, count\n",
    "import pyspark.pandas as ps\n",
    "import findspark\n",
    "from pyspark.sql.types import IntegerType\n",
    "findspark.init()\n"
   ]
  },
  {
   "cell_type": "code",
   "execution_count": 9,
   "id": "f8523fe6",
   "metadata": {},
   "outputs": [],
   "source": [
    "#Create a sparksession\n",
    "spark = SparkSession.builder.master('local[4]').appName('ml').getOrCreate()"
   ]
  },
  {
   "cell_type": "code",
   "execution_count": 10,
   "id": "c5390a6f",
   "metadata": {},
   "outputs": [],
   "source": [
    "spark.conf.set('spark.sql.repl.eagerEval.enabled', True)"
   ]
  },
  {
   "cell_type": "code",
   "execution_count": 11,
   "id": "ea0b572b",
   "metadata": {},
   "outputs": [],
   "source": [
    "# to display maximun columns in pandas\n",
    "pd.pandas.set_option('display.max_columns',None)"
   ]
  },
  {
   "cell_type": "markdown",
   "id": "0b5fb2b3",
   "metadata": {},
   "source": [
    "### Bank Full (dataset-1)"
   ]
  },
  {
   "cell_type": "code",
   "execution_count": 12,
   "id": "36bc5d86",
   "metadata": {},
   "outputs": [],
   "source": [
    "# Read Spark Dataframe\n",
    "bank_full = spark.read.csv('bank-full.csv', sep = \";\" , header=True,inferSchema=True)"
   ]
  },
  {
   "cell_type": "code",
   "execution_count": 13,
   "id": "588df899",
   "metadata": {},
   "outputs": [
    {
     "data": {
      "text/plain": [
       "45211"
      ]
     },
     "execution_count": 13,
     "metadata": {},
     "output_type": "execute_result"
    }
   ],
   "source": [
    "bank_full.count()"
   ]
  },
  {
   "cell_type": "code",
   "execution_count": 14,
   "id": "4b019844",
   "metadata": {},
   "outputs": [
    {
     "data": {
      "text/html": [
       "<table border='1'>\n",
       "<tr><th>age</th><th>job</th><th>marital</th><th>education</th><th>default</th><th>balance</th><th>housing</th><th>loan</th><th>contact</th><th>day</th><th>month</th><th>duration</th><th>campaign</th><th>pdays</th><th>previous</th><th>poutcome</th><th>y</th></tr>\n",
       "<tr><td>58</td><td>management</td><td>married</td><td>tertiary</td><td>no</td><td>2143</td><td>yes</td><td>no</td><td>unknown</td><td>5</td><td>may</td><td>261</td><td>1</td><td>-1</td><td>0</td><td>unknown</td><td>no</td></tr>\n",
       "<tr><td>44</td><td>technician</td><td>single</td><td>secondary</td><td>no</td><td>29</td><td>yes</td><td>no</td><td>unknown</td><td>5</td><td>may</td><td>151</td><td>1</td><td>-1</td><td>0</td><td>unknown</td><td>no</td></tr>\n",
       "<tr><td>33</td><td>entrepreneur</td><td>married</td><td>secondary</td><td>no</td><td>2</td><td>yes</td><td>yes</td><td>unknown</td><td>5</td><td>may</td><td>76</td><td>1</td><td>-1</td><td>0</td><td>unknown</td><td>no</td></tr>\n",
       "<tr><td>47</td><td>blue-collar</td><td>married</td><td>unknown</td><td>no</td><td>1506</td><td>yes</td><td>no</td><td>unknown</td><td>5</td><td>may</td><td>92</td><td>1</td><td>-1</td><td>0</td><td>unknown</td><td>no</td></tr>\n",
       "<tr><td>33</td><td>unknown</td><td>single</td><td>unknown</td><td>no</td><td>1</td><td>no</td><td>no</td><td>unknown</td><td>5</td><td>may</td><td>198</td><td>1</td><td>-1</td><td>0</td><td>unknown</td><td>no</td></tr>\n",
       "</table>\n"
      ],
      "text/plain": [
       "+---+------------+-------+---------+-------+-------+-------+----+-------+---+-----+--------+--------+-----+--------+--------+---+\n",
       "|age|         job|marital|education|default|balance|housing|loan|contact|day|month|duration|campaign|pdays|previous|poutcome|  y|\n",
       "+---+------------+-------+---------+-------+-------+-------+----+-------+---+-----+--------+--------+-----+--------+--------+---+\n",
       "| 58|  management|married| tertiary|     no|   2143|    yes|  no|unknown|  5|  may|     261|       1|   -1|       0| unknown| no|\n",
       "| 44|  technician| single|secondary|     no|     29|    yes|  no|unknown|  5|  may|     151|       1|   -1|       0| unknown| no|\n",
       "| 33|entrepreneur|married|secondary|     no|      2|    yes| yes|unknown|  5|  may|      76|       1|   -1|       0| unknown| no|\n",
       "| 47| blue-collar|married|  unknown|     no|   1506|    yes|  no|unknown|  5|  may|      92|       1|   -1|       0| unknown| no|\n",
       "| 33|     unknown| single|  unknown|     no|      1|     no|  no|unknown|  5|  may|     198|       1|   -1|       0| unknown| no|\n",
       "+---+------------+-------+---------+-------+-------+-------+----+-------+---+-----+--------+--------+-----+--------+--------+---+"
      ]
     },
     "metadata": {},
     "output_type": "display_data"
    }
   ],
   "source": [
    "display(bank_full.limit(5))"
   ]
  },
  {
   "cell_type": "code",
   "execution_count": 15,
   "id": "13f2767a",
   "metadata": {},
   "outputs": [
    {
     "name": "stdout",
     "output_type": "stream",
     "text": [
      "root\n",
      " |-- age: integer (nullable = true)\n",
      " |-- job: string (nullable = true)\n",
      " |-- marital: string (nullable = true)\n",
      " |-- education: string (nullable = true)\n",
      " |-- default: string (nullable = true)\n",
      " |-- balance: integer (nullable = true)\n",
      " |-- housing: string (nullable = true)\n",
      " |-- loan: string (nullable = true)\n",
      " |-- contact: string (nullable = true)\n",
      " |-- day: integer (nullable = true)\n",
      " |-- month: string (nullable = true)\n",
      " |-- duration: integer (nullable = true)\n",
      " |-- campaign: integer (nullable = true)\n",
      " |-- pdays: integer (nullable = true)\n",
      " |-- previous: integer (nullable = true)\n",
      " |-- poutcome: string (nullable = true)\n",
      " |-- y: string (nullable = true)\n",
      "\n"
     ]
    }
   ],
   "source": [
    "bank_full.printSchema()"
   ]
  },
  {
   "cell_type": "code",
   "execution_count": 16,
   "id": "58c29062",
   "metadata": {},
   "outputs": [],
   "source": [
    "# Adding the index columns \n",
    "\n",
    "new_cols = [\"emp_var_rate\", \"cons_price_idx\", \"cons_conf_idx\", \"euribor_3m\", \"nr_employed\"]\n",
    "for column in new_cols:\n",
    "    bank_full = bank_full.withColumn(column, bank_full[\"poutcome\"]+1)"
   ]
  },
  {
   "cell_type": "code",
   "execution_count": 17,
   "id": "6d07a3ac",
   "metadata": {},
   "outputs": [
    {
     "data": {
      "text/html": [
       "<table border='1'>\n",
       "<tr><th>age</th><th>job</th><th>marital</th><th>education</th><th>default</th><th>balance</th><th>housing</th><th>loan</th><th>contact</th><th>day</th><th>month</th><th>duration</th><th>campaign</th><th>pdays</th><th>previous</th><th>poutcome</th><th>y</th><th>emp_var_rate</th><th>cons_price_idx</th><th>cons_conf_idx</th><th>euribor_3m</th><th>nr_employed</th></tr>\n",
       "<tr><td>58</td><td>management</td><td>married</td><td>tertiary</td><td>no</td><td>2143</td><td>yes</td><td>no</td><td>unknown</td><td>5</td><td>may</td><td>261</td><td>1</td><td>-1</td><td>0</td><td>unknown</td><td>no</td><td>null</td><td>null</td><td>null</td><td>null</td><td>null</td></tr>\n",
       "<tr><td>44</td><td>technician</td><td>single</td><td>secondary</td><td>no</td><td>29</td><td>yes</td><td>no</td><td>unknown</td><td>5</td><td>may</td><td>151</td><td>1</td><td>-1</td><td>0</td><td>unknown</td><td>no</td><td>null</td><td>null</td><td>null</td><td>null</td><td>null</td></tr>\n",
       "<tr><td>33</td><td>entrepreneur</td><td>married</td><td>secondary</td><td>no</td><td>2</td><td>yes</td><td>yes</td><td>unknown</td><td>5</td><td>may</td><td>76</td><td>1</td><td>-1</td><td>0</td><td>unknown</td><td>no</td><td>null</td><td>null</td><td>null</td><td>null</td><td>null</td></tr>\n",
       "<tr><td>47</td><td>blue-collar</td><td>married</td><td>unknown</td><td>no</td><td>1506</td><td>yes</td><td>no</td><td>unknown</td><td>5</td><td>may</td><td>92</td><td>1</td><td>-1</td><td>0</td><td>unknown</td><td>no</td><td>null</td><td>null</td><td>null</td><td>null</td><td>null</td></tr>\n",
       "<tr><td>33</td><td>unknown</td><td>single</td><td>unknown</td><td>no</td><td>1</td><td>no</td><td>no</td><td>unknown</td><td>5</td><td>may</td><td>198</td><td>1</td><td>-1</td><td>0</td><td>unknown</td><td>no</td><td>null</td><td>null</td><td>null</td><td>null</td><td>null</td></tr>\n",
       "</table>\n"
      ],
      "text/plain": [
       "+---+------------+-------+---------+-------+-------+-------+----+-------+---+-----+--------+--------+-----+--------+--------+---+------------+--------------+-------------+----------+-----------+\n",
       "|age|         job|marital|education|default|balance|housing|loan|contact|day|month|duration|campaign|pdays|previous|poutcome|  y|emp_var_rate|cons_price_idx|cons_conf_idx|euribor_3m|nr_employed|\n",
       "+---+------------+-------+---------+-------+-------+-------+----+-------+---+-----+--------+--------+-----+--------+--------+---+------------+--------------+-------------+----------+-----------+\n",
       "| 58|  management|married| tertiary|     no|   2143|    yes|  no|unknown|  5|  may|     261|       1|   -1|       0| unknown| no|        null|          null|         null|      null|       null|\n",
       "| 44|  technician| single|secondary|     no|     29|    yes|  no|unknown|  5|  may|     151|       1|   -1|       0| unknown| no|        null|          null|         null|      null|       null|\n",
       "| 33|entrepreneur|married|secondary|     no|      2|    yes| yes|unknown|  5|  may|      76|       1|   -1|       0| unknown| no|        null|          null|         null|      null|       null|\n",
       "| 47| blue-collar|married|  unknown|     no|   1506|    yes|  no|unknown|  5|  may|      92|       1|   -1|       0| unknown| no|        null|          null|         null|      null|       null|\n",
       "| 33|     unknown| single|  unknown|     no|      1|     no|  no|unknown|  5|  may|     198|       1|   -1|       0| unknown| no|        null|          null|         null|      null|       null|\n",
       "+---+------------+-------+---------+-------+-------+-------+----+-------+---+-----+--------+--------+-----+--------+--------+---+------------+--------------+-------------+----------+-----------+"
      ]
     },
     "metadata": {},
     "output_type": "display_data"
    }
   ],
   "source": [
    "display(bank_full.limit(5))"
   ]
  },
  {
   "cell_type": "code",
   "execution_count": 18,
   "id": "9213fb63",
   "metadata": {},
   "outputs": [],
   "source": [
    "# year mapper function into a dataframe\n",
    "\n",
    "def year_mapper(data, start_yr, end_yr):\n",
    "    month_lst = [\"jan\", \"feb\", \"mar\", \"apr\", \"may\", \"jun\", \"jul\", \"aug\", \"sep\", \"oct\", \"nov\", \"dec\"]\n",
    "\n",
    "    # Make a copy of the original dataframe\n",
    "    new_data = data.copy()\n",
    "\n",
    "    # Insert a new \"year\" column filled with zeros\n",
    "    new_data.insert(loc=0, column=\"year\", value=0)\n",
    "\n",
    "    # Set the first year to the start year\n",
    "    current_year = int(start_yr)\n",
    "    new_data.at[0, \"year\"] = current_year\n",
    "\n",
    "    # Loop through the rows of the dataframe, updating the year column when the month changes\n",
    "    for i in range(1, len(new_data)):\n",
    "        # If the current month is earlier in the year than the previous month, increment the year\n",
    "        if month_lst.index(new_data[\"month\"][i]) < month_lst.index(new_data[\"month\"][i-1]):\n",
    "            current_year += 1\n",
    "\n",
    "        new_data.at[i, \"year\"] = current_year\n",
    "\n",
    "        # If the current year exceeds the end year, break out of the loop\n",
    "        if current_year > end_yr:\n",
    "            break\n",
    "\n",
    "    return new_data"
   ]
  },
  {
   "cell_type": "code",
   "execution_count": 19,
   "id": "4636c585",
   "metadata": {},
   "outputs": [],
   "source": [
    "import warnings\n",
    "# Use default index prevent overhead.\n",
    "ps.set_option(\"compute.default_index_type\", \"distributed\")\n",
    "\n",
    "warnings.filterwarnings(\"ignore\")  # Ignore warnings coming from Arrow optimizations.\n",
    "\n",
    "# To speed up dataset processing\n",
    "spark.conf.set(\"spark.sql.execution.arrow.pyspark.enabled\", True)\n",
    "\n",
    "bank_full_pdf = bank_full.toPandas()\n",
    "\n",
    "# Apply the function to the Pandas DataFrame\n",
    "new_pandas_df = year_mapper(bank_full_pdf, 2008, 2010)\n",
    "\n",
    "# Convert the updated Pandas DataFrame back to a PySpark DataFrame\n",
    "bank_full = spark.createDataFrame(new_pandas_df)\n"
   ]
  },
  {
   "cell_type": "code",
   "execution_count": 20,
   "id": "1ac9ddef",
   "metadata": {},
   "outputs": [
    {
     "data": {
      "text/html": [
       "<table border='1'>\n",
       "<tr><th>year</th><th>age</th><th>job</th><th>marital</th><th>education</th><th>default</th><th>balance</th><th>housing</th><th>loan</th><th>contact</th><th>day</th><th>month</th><th>duration</th><th>campaign</th><th>pdays</th><th>previous</th><th>poutcome</th><th>y</th><th>emp_var_rate</th><th>cons_price_idx</th><th>cons_conf_idx</th><th>euribor_3m</th><th>nr_employed</th></tr>\n",
       "<tr><td>2008</td><td>58</td><td>management</td><td>married</td><td>tertiary</td><td>no</td><td>2143</td><td>yes</td><td>no</td><td>unknown</td><td>5</td><td>may</td><td>261</td><td>1</td><td>-1</td><td>0</td><td>unknown</td><td>no</td><td>null</td><td>null</td><td>null</td><td>null</td><td>null</td></tr>\n",
       "<tr><td>2008</td><td>44</td><td>technician</td><td>single</td><td>secondary</td><td>no</td><td>29</td><td>yes</td><td>no</td><td>unknown</td><td>5</td><td>may</td><td>151</td><td>1</td><td>-1</td><td>0</td><td>unknown</td><td>no</td><td>null</td><td>null</td><td>null</td><td>null</td><td>null</td></tr>\n",
       "<tr><td>2008</td><td>33</td><td>entrepreneur</td><td>married</td><td>secondary</td><td>no</td><td>2</td><td>yes</td><td>yes</td><td>unknown</td><td>5</td><td>may</td><td>76</td><td>1</td><td>-1</td><td>0</td><td>unknown</td><td>no</td><td>null</td><td>null</td><td>null</td><td>null</td><td>null</td></tr>\n",
       "<tr><td>2008</td><td>47</td><td>blue-collar</td><td>married</td><td>unknown</td><td>no</td><td>1506</td><td>yes</td><td>no</td><td>unknown</td><td>5</td><td>may</td><td>92</td><td>1</td><td>-1</td><td>0</td><td>unknown</td><td>no</td><td>null</td><td>null</td><td>null</td><td>null</td><td>null</td></tr>\n",
       "<tr><td>2008</td><td>33</td><td>unknown</td><td>single</td><td>unknown</td><td>no</td><td>1</td><td>no</td><td>no</td><td>unknown</td><td>5</td><td>may</td><td>198</td><td>1</td><td>-1</td><td>0</td><td>unknown</td><td>no</td><td>null</td><td>null</td><td>null</td><td>null</td><td>null</td></tr>\n",
       "</table>\n"
      ],
      "text/plain": [
       "+----+---+------------+-------+---------+-------+-------+-------+----+-------+---+-----+--------+--------+-----+--------+--------+---+------------+--------------+-------------+----------+-----------+\n",
       "|year|age|         job|marital|education|default|balance|housing|loan|contact|day|month|duration|campaign|pdays|previous|poutcome|  y|emp_var_rate|cons_price_idx|cons_conf_idx|euribor_3m|nr_employed|\n",
       "+----+---+------------+-------+---------+-------+-------+-------+----+-------+---+-----+--------+--------+-----+--------+--------+---+------------+--------------+-------------+----------+-----------+\n",
       "|2008| 58|  management|married| tertiary|     no|   2143|    yes|  no|unknown|  5|  may|     261|       1|   -1|       0| unknown| no|        null|          null|         null|      null|       null|\n",
       "|2008| 44|  technician| single|secondary|     no|     29|    yes|  no|unknown|  5|  may|     151|       1|   -1|       0| unknown| no|        null|          null|         null|      null|       null|\n",
       "|2008| 33|entrepreneur|married|secondary|     no|      2|    yes| yes|unknown|  5|  may|      76|       1|   -1|       0| unknown| no|        null|          null|         null|      null|       null|\n",
       "|2008| 47| blue-collar|married|  unknown|     no|   1506|    yes|  no|unknown|  5|  may|      92|       1|   -1|       0| unknown| no|        null|          null|         null|      null|       null|\n",
       "|2008| 33|     unknown| single|  unknown|     no|      1|     no|  no|unknown|  5|  may|     198|       1|   -1|       0| unknown| no|        null|          null|         null|      null|       null|\n",
       "+----+---+------------+-------+---------+-------+-------+-------+----+-------+---+-----+--------+--------+-----+--------+--------+---+------------+--------------+-------------+----------+-----------+"
      ]
     },
     "metadata": {},
     "output_type": "display_data"
    }
   ],
   "source": [
    "display(bank_full.limit(5))"
   ]
  },
  {
   "cell_type": "code",
   "execution_count": 21,
   "id": "cf1c4c40",
   "metadata": {},
   "outputs": [
    {
     "name": "stdout",
     "output_type": "stream",
     "text": [
      "+----+-----+\n",
      "|year|count|\n",
      "+----+-----+\n",
      "|2008|27729|\n",
      "|2009|14862|\n",
      "|2010| 2620|\n",
      "+----+-----+\n",
      "\n"
     ]
    }
   ],
   "source": [
    "counts = bank_full.groupBy(\"year\").count()\n",
    "counts.show()"
   ]
  },
  {
   "cell_type": "markdown",
   "id": "548d7184",
   "metadata": {},
   "source": [
    "### Index mapper"
   ]
  },
  {
   "cell_type": "code",
   "execution_count": 22,
   "id": "618b6a7c",
   "metadata": {},
   "outputs": [],
   "source": [
    "#Adding the missing index into the dataframes because it have the same values along the months\n",
    "\n",
    "def map_index(new_data):\n",
    "\n",
    "    index_2008 = {\"may\":{\"emp_var_rate\":1.1, \"cons_price_idx\":93.994, \"cons_conf_idx\":-36.4, \"euribor_3m\":4.85, \"nr_employed\":5191},\n",
    "                 \"jun\":{\"emp_var_rate\":1.4, \"cons_price_idx\":94.465, \"cons_conf_idx\":-41.8, \"euribor_3m\":4.86, \"nr_employed\":5228.1},\n",
    "                 \"jul\":{\"emp_var_rate\":1.4, \"cons_price_idx\":93.918, \"cons_conf_idx\":-42.7, \"euribor_3m\":4.96, \"nr_employed\":5228.1},\n",
    "                 \"aug\":{\"emp_var_rate\":1.4, \"cons_price_idx\":93.444, \"cons_conf_idx\":-36.1, \"euribor_3m\":4.965, \"nr_employed\":5228.1},\n",
    "                 \"oct\":{\"emp_var_rate\":-0.1, \"cons_price_idx\":93.798, \"cons_conf_idx\":-40.4, \"euribor_3m\":5, \"nr_employed\":5195.8},\n",
    "                 \"nov\":{\"emp_var_rate\":-0.1, \"cons_price_idx\":93.2, \"cons_conf_idx\":-42, \"euribor_3m\":4.406, \"nr_employed\":5195.8},\n",
    "                 \"dec\":{\"emp_var_rate\":-0.2, \"cons_price_idx\":92.75, \"cons_conf_idx\":-45.9, \"euribor_3m\":3.563, \"nr_employed\":5176.3}}\n",
    "\n",
    "    index_2009 = {\"jan\":{\"emp_var_rate\":-0.2, \"nr_employed\":5176.3},\n",
    "                  \"feb\":{\"emp_var_rate\":-0.2, \"nr_employed\":5176.3},\n",
    "                  \"mar\":{\"emp_var_rate\":-1.8, \"cons_price_idx\":92.84, \"cons_conf_idx\":-50, \"euribor_3m\":1.811, \"nr_employed\":5099.1},\n",
    "                  \"apr\":{\"emp_var_rate\":-1.8, \"cons_price_idx\":93.075, \"cons_conf_idx\":-47.1, \"euribor_3m\":1.498, \"nr_employed\":5099.1},\n",
    "                  \"may\":{\"emp_var_rate\":-1.8, \"cons_price_idx\":92.89, \"cons_conf_idx\":-46.2, \"euribor_3m\":1.334, \"nr_employed\":5099.1},\n",
    "                 \"jun\":{\"emp_var_rate\":-2.9, \"cons_price_idx\":92.963, \"cons_conf_idx\":-40.8, \"euribor_3m\":1.26, \"nr_employed\":5076.2},\n",
    "                 \"jul\":{\"emp_var_rate\":-2.9, \"cons_price_idx\":93.469, \"cons_conf_idx\":-33.6, \"euribor_3m\":1.072, \"nr_employed\":5076.2},\n",
    "                 \"aug\":{\"emp_var_rate\":-2.9, \"cons_price_idx\":92.201, \"cons_conf_idx\":-31.4, \"euribor_3m\":0.884, \"nr_employed\":5076.2},\n",
    "                 \"sep\":{\"emp_var_rate\":-3.4, \"cons_price_idx\":92.379, \"cons_conf_idx\":-29.8, \"euribor_3m\":0.813, \"nr_employed\":5017.5},\n",
    "                 \"oct\":{\"emp_var_rate\":-3.4, \"cons_price_idx\":92.431, \"cons_conf_idx\":-26.9, \"euribor_3m\":0.754, \"nr_employed\":5017.5},\n",
    "                 \"nov\":{\"emp_var_rate\":-3.4, \"cons_price_idx\":92.649, \"cons_conf_idx\":-30.1, \"euribor_3m\":0.722, \"nr_employed\":5017.5},\n",
    "                 \"dec\":{\"emp_var_rate\":-3.0, \"cons_price_idx\":92.713, \"cons_conf_idx\":-33, \"euribor_3m\":0.718, \"nr_employed\":5023.5}}\n",
    "\n",
    "    index_2010 = {\"jan\":{\"emp_var_rate\":-3.0, \"nr_employed\":5023.5},\n",
    "                  \"feb\":{\"emp_var_rate\":-3.0, \"nr_employed\":5023.5},\n",
    "                   \"mar\":{\"emp_var_rate\":-1.8, \"cons_price_idx\":92.369, \"cons_conf_idx\":-34.8, \"euribor_3m\":0.655, \"nr_employed\":5008.7},\n",
    "                  \"apr\":{\"emp_var_rate\":-1.8, \"cons_price_idx\":93.749, \"cons_conf_idx\":-34.6, \"euribor_3m\":0.64, \"nr_employed\":5008.7},\n",
    "                  \"may\":{\"emp_var_rate\":-1.8, \"cons_price_idx\":93.876, \"cons_conf_idx\":-40, \"euribor_3m\":0.668, \"nr_employed\":5008.7},\n",
    "                 \"jun\":{\"emp_var_rate\":-1.7, \"cons_price_idx\":94.055, \"cons_conf_idx\":-39.8, \"euribor_3m\":0.704, \"nr_employed\":4991.6},\n",
    "                 \"jul\":{\"emp_var_rate\":-1.7, \"cons_price_idx\":94.215, \"cons_conf_idx\":-40.3, \"euribor_3m\":0.79, \"nr_employed\":4991.6},\n",
    "                 \"aug\":{\"emp_var_rate\":-1.7, \"cons_price_idx\":94.027, \"cons_conf_idx\":-38.3, \"euribor_3m\":0.898, \"nr_employed\":4991.6},\n",
    "                 \"sep\":{\"emp_var_rate\":-1.1, \"cons_price_idx\":94.199, \"cons_conf_idx\":-37.5, \"euribor_3m\":0.886, \"nr_employed\":4963.6},\n",
    "                 \"oct\":{\"emp_var_rate\":-1.1, \"cons_price_idx\":94.601, \"cons_conf_idx\":-49.5, \"euribor_3m\":0.959, \"nr_employed\":4963.6},\n",
    "                 \"nov\":{\"emp_var_rate\":-1.1, \"cons_price_idx\":94.767, \"cons_conf_idx\":-50.8, \"euribor_3m\":1.05, \"nr_employed\":4963.6}}\n",
    "\n",
    "    indx = [index_2008, index_2009, index_2010]\n",
    "    years = [2008, 2009, 2010]\n",
    "    \n",
    "    for i in range(len(years)):\n",
    "        for months, indexes in indx[i].items():\n",
    "            for index, index_val in indexes.items():\n",
    "                new_data = new_data.withColumn(index, \n",
    "                    when((col('year') == years[i]) & (col('month') == months), index_val).otherwise(col(index))) \n",
    "    return new_data"
   ]
  },
  {
   "cell_type": "code",
   "execution_count": 23,
   "id": "0ce9ec22",
   "metadata": {},
   "outputs": [
    {
     "data": {
      "text/html": [
       "<table border='1'>\n",
       "<tr><th>year</th><th>age</th><th>job</th><th>marital</th><th>education</th><th>default</th><th>balance</th><th>housing</th><th>loan</th><th>contact</th><th>day</th><th>month</th><th>duration</th><th>campaign</th><th>pdays</th><th>previous</th><th>poutcome</th><th>y</th><th>emp_var_rate</th><th>cons_price_idx</th><th>cons_conf_idx</th><th>euribor_3m</th><th>nr_employed</th></tr>\n",
       "<tr><td>2008</td><td>58</td><td>management</td><td>married</td><td>tertiary</td><td>no</td><td>2143</td><td>yes</td><td>no</td><td>unknown</td><td>5</td><td>may</td><td>261</td><td>1</td><td>-1</td><td>0</td><td>unknown</td><td>no</td><td>1.1</td><td>93.994</td><td>-36.4</td><td>4.85</td><td>5191.0</td></tr>\n",
       "<tr><td>2008</td><td>44</td><td>technician</td><td>single</td><td>secondary</td><td>no</td><td>29</td><td>yes</td><td>no</td><td>unknown</td><td>5</td><td>may</td><td>151</td><td>1</td><td>-1</td><td>0</td><td>unknown</td><td>no</td><td>1.1</td><td>93.994</td><td>-36.4</td><td>4.85</td><td>5191.0</td></tr>\n",
       "<tr><td>2008</td><td>33</td><td>entrepreneur</td><td>married</td><td>secondary</td><td>no</td><td>2</td><td>yes</td><td>yes</td><td>unknown</td><td>5</td><td>may</td><td>76</td><td>1</td><td>-1</td><td>0</td><td>unknown</td><td>no</td><td>1.1</td><td>93.994</td><td>-36.4</td><td>4.85</td><td>5191.0</td></tr>\n",
       "<tr><td>2008</td><td>47</td><td>blue-collar</td><td>married</td><td>unknown</td><td>no</td><td>1506</td><td>yes</td><td>no</td><td>unknown</td><td>5</td><td>may</td><td>92</td><td>1</td><td>-1</td><td>0</td><td>unknown</td><td>no</td><td>1.1</td><td>93.994</td><td>-36.4</td><td>4.85</td><td>5191.0</td></tr>\n",
       "<tr><td>2008</td><td>33</td><td>unknown</td><td>single</td><td>unknown</td><td>no</td><td>1</td><td>no</td><td>no</td><td>unknown</td><td>5</td><td>may</td><td>198</td><td>1</td><td>-1</td><td>0</td><td>unknown</td><td>no</td><td>1.1</td><td>93.994</td><td>-36.4</td><td>4.85</td><td>5191.0</td></tr>\n",
       "</table>\n"
      ],
      "text/plain": [
       "+----+---+------------+-------+---------+-------+-------+-------+----+-------+---+-----+--------+--------+-----+--------+--------+---+------------+--------------+-------------+----------+-----------+\n",
       "|year|age|         job|marital|education|default|balance|housing|loan|contact|day|month|duration|campaign|pdays|previous|poutcome|  y|emp_var_rate|cons_price_idx|cons_conf_idx|euribor_3m|nr_employed|\n",
       "+----+---+------------+-------+---------+-------+-------+-------+----+-------+---+-----+--------+--------+-----+--------+--------+---+------------+--------------+-------------+----------+-----------+\n",
       "|2008| 58|  management|married| tertiary|     no|   2143|    yes|  no|unknown|  5|  may|     261|       1|   -1|       0| unknown| no|         1.1|        93.994|        -36.4|      4.85|     5191.0|\n",
       "|2008| 44|  technician| single|secondary|     no|     29|    yes|  no|unknown|  5|  may|     151|       1|   -1|       0| unknown| no|         1.1|        93.994|        -36.4|      4.85|     5191.0|\n",
       "|2008| 33|entrepreneur|married|secondary|     no|      2|    yes| yes|unknown|  5|  may|      76|       1|   -1|       0| unknown| no|         1.1|        93.994|        -36.4|      4.85|     5191.0|\n",
       "|2008| 47| blue-collar|married|  unknown|     no|   1506|    yes|  no|unknown|  5|  may|      92|       1|   -1|       0| unknown| no|         1.1|        93.994|        -36.4|      4.85|     5191.0|\n",
       "|2008| 33|     unknown| single|  unknown|     no|      1|     no|  no|unknown|  5|  may|     198|       1|   -1|       0| unknown| no|         1.1|        93.994|        -36.4|      4.85|     5191.0|\n",
       "+----+---+------------+-------+---------+-------+-------+-------+----+-------+---+-----+--------+--------+-----+--------+--------+---+------------+--------------+-------------+----------+-----------+"
      ]
     },
     "metadata": {},
     "output_type": "display_data"
    }
   ],
   "source": [
    "# Calling the index_mapper function\n",
    "bank_full = map_index(new_data = bank_full)\n",
    "display(bank_full.limit(5))"
   ]
  },
  {
   "cell_type": "code",
   "execution_count": 24,
   "id": "7be8e28c",
   "metadata": {},
   "outputs": [
    {
     "name": "stdout",
     "output_type": "stream",
     "text": [
      "root\n",
      " |-- year: long (nullable = true)\n",
      " |-- age: integer (nullable = true)\n",
      " |-- job: string (nullable = true)\n",
      " |-- marital: string (nullable = true)\n",
      " |-- education: string (nullable = true)\n",
      " |-- default: string (nullable = true)\n",
      " |-- balance: integer (nullable = true)\n",
      " |-- housing: string (nullable = true)\n",
      " |-- loan: string (nullable = true)\n",
      " |-- contact: string (nullable = true)\n",
      " |-- day: integer (nullable = true)\n",
      " |-- month: string (nullable = true)\n",
      " |-- duration: integer (nullable = true)\n",
      " |-- campaign: integer (nullable = true)\n",
      " |-- pdays: integer (nullable = true)\n",
      " |-- previous: integer (nullable = true)\n",
      " |-- poutcome: string (nullable = true)\n",
      " |-- y: string (nullable = true)\n",
      " |-- emp_var_rate: double (nullable = true)\n",
      " |-- cons_price_idx: double (nullable = true)\n",
      " |-- cons_conf_idx: double (nullable = true)\n",
      " |-- euribor_3m: double (nullable = true)\n",
      " |-- nr_employed: double (nullable = true)\n",
      "\n"
     ]
    }
   ],
   "source": [
    "bank_full.printSchema()"
   ]
  },
  {
   "cell_type": "code",
   "execution_count": 25,
   "id": "ab121bb1",
   "metadata": {},
   "outputs": [],
   "source": [
    "#dropping the balance, day column\n",
    "bank_full = bank_full.drop(\"balance\", \"day\")"
   ]
  },
  {
   "cell_type": "code",
   "execution_count": 26,
   "id": "9b96876b",
   "metadata": {},
   "outputs": [],
   "source": [
    "#Converting the dataframes into the pandas\n",
    "dataframe_1 = bank_full.toPandas()"
   ]
  },
  {
   "cell_type": "code",
   "execution_count": 27,
   "id": "bd769970",
   "metadata": {},
   "outputs": [
    {
     "data": {
      "text/html": [
       "<div>\n",
       "<style scoped>\n",
       "    .dataframe tbody tr th:only-of-type {\n",
       "        vertical-align: middle;\n",
       "    }\n",
       "\n",
       "    .dataframe tbody tr th {\n",
       "        vertical-align: top;\n",
       "    }\n",
       "\n",
       "    .dataframe thead th {\n",
       "        text-align: right;\n",
       "    }\n",
       "</style>\n",
       "<table border=\"1\" class=\"dataframe\">\n",
       "  <thead>\n",
       "    <tr style=\"text-align: right;\">\n",
       "      <th></th>\n",
       "      <th>year</th>\n",
       "      <th>age</th>\n",
       "      <th>job</th>\n",
       "      <th>marital</th>\n",
       "      <th>education</th>\n",
       "      <th>default</th>\n",
       "      <th>housing</th>\n",
       "      <th>loan</th>\n",
       "      <th>contact</th>\n",
       "      <th>month</th>\n",
       "      <th>duration</th>\n",
       "      <th>campaign</th>\n",
       "      <th>pdays</th>\n",
       "      <th>previous</th>\n",
       "      <th>poutcome</th>\n",
       "      <th>y</th>\n",
       "      <th>emp_var_rate</th>\n",
       "      <th>cons_price_idx</th>\n",
       "      <th>cons_conf_idx</th>\n",
       "      <th>euribor_3m</th>\n",
       "      <th>nr_employed</th>\n",
       "    </tr>\n",
       "  </thead>\n",
       "  <tbody>\n",
       "    <tr>\n",
       "      <th>0</th>\n",
       "      <td>2008</td>\n",
       "      <td>58</td>\n",
       "      <td>management</td>\n",
       "      <td>married</td>\n",
       "      <td>tertiary</td>\n",
       "      <td>no</td>\n",
       "      <td>yes</td>\n",
       "      <td>no</td>\n",
       "      <td>unknown</td>\n",
       "      <td>may</td>\n",
       "      <td>261</td>\n",
       "      <td>1</td>\n",
       "      <td>-1</td>\n",
       "      <td>0</td>\n",
       "      <td>unknown</td>\n",
       "      <td>no</td>\n",
       "      <td>1.1</td>\n",
       "      <td>93.994</td>\n",
       "      <td>-36.4</td>\n",
       "      <td>4.85</td>\n",
       "      <td>5191.0</td>\n",
       "    </tr>\n",
       "    <tr>\n",
       "      <th>1</th>\n",
       "      <td>2008</td>\n",
       "      <td>44</td>\n",
       "      <td>technician</td>\n",
       "      <td>single</td>\n",
       "      <td>secondary</td>\n",
       "      <td>no</td>\n",
       "      <td>yes</td>\n",
       "      <td>no</td>\n",
       "      <td>unknown</td>\n",
       "      <td>may</td>\n",
       "      <td>151</td>\n",
       "      <td>1</td>\n",
       "      <td>-1</td>\n",
       "      <td>0</td>\n",
       "      <td>unknown</td>\n",
       "      <td>no</td>\n",
       "      <td>1.1</td>\n",
       "      <td>93.994</td>\n",
       "      <td>-36.4</td>\n",
       "      <td>4.85</td>\n",
       "      <td>5191.0</td>\n",
       "    </tr>\n",
       "    <tr>\n",
       "      <th>2</th>\n",
       "      <td>2008</td>\n",
       "      <td>33</td>\n",
       "      <td>entrepreneur</td>\n",
       "      <td>married</td>\n",
       "      <td>secondary</td>\n",
       "      <td>no</td>\n",
       "      <td>yes</td>\n",
       "      <td>yes</td>\n",
       "      <td>unknown</td>\n",
       "      <td>may</td>\n",
       "      <td>76</td>\n",
       "      <td>1</td>\n",
       "      <td>-1</td>\n",
       "      <td>0</td>\n",
       "      <td>unknown</td>\n",
       "      <td>no</td>\n",
       "      <td>1.1</td>\n",
       "      <td>93.994</td>\n",
       "      <td>-36.4</td>\n",
       "      <td>4.85</td>\n",
       "      <td>5191.0</td>\n",
       "    </tr>\n",
       "    <tr>\n",
       "      <th>3</th>\n",
       "      <td>2008</td>\n",
       "      <td>47</td>\n",
       "      <td>blue-collar</td>\n",
       "      <td>married</td>\n",
       "      <td>unknown</td>\n",
       "      <td>no</td>\n",
       "      <td>yes</td>\n",
       "      <td>no</td>\n",
       "      <td>unknown</td>\n",
       "      <td>may</td>\n",
       "      <td>92</td>\n",
       "      <td>1</td>\n",
       "      <td>-1</td>\n",
       "      <td>0</td>\n",
       "      <td>unknown</td>\n",
       "      <td>no</td>\n",
       "      <td>1.1</td>\n",
       "      <td>93.994</td>\n",
       "      <td>-36.4</td>\n",
       "      <td>4.85</td>\n",
       "      <td>5191.0</td>\n",
       "    </tr>\n",
       "    <tr>\n",
       "      <th>4</th>\n",
       "      <td>2008</td>\n",
       "      <td>33</td>\n",
       "      <td>unknown</td>\n",
       "      <td>single</td>\n",
       "      <td>unknown</td>\n",
       "      <td>no</td>\n",
       "      <td>no</td>\n",
       "      <td>no</td>\n",
       "      <td>unknown</td>\n",
       "      <td>may</td>\n",
       "      <td>198</td>\n",
       "      <td>1</td>\n",
       "      <td>-1</td>\n",
       "      <td>0</td>\n",
       "      <td>unknown</td>\n",
       "      <td>no</td>\n",
       "      <td>1.1</td>\n",
       "      <td>93.994</td>\n",
       "      <td>-36.4</td>\n",
       "      <td>4.85</td>\n",
       "      <td>5191.0</td>\n",
       "    </tr>\n",
       "  </tbody>\n",
       "</table>\n",
       "</div>"
      ],
      "text/plain": [
       "   year  age           job  marital  education default housing loan  contact  \\\n",
       "0  2008   58    management  married   tertiary      no     yes   no  unknown   \n",
       "1  2008   44    technician   single  secondary      no     yes   no  unknown   \n",
       "2  2008   33  entrepreneur  married  secondary      no     yes  yes  unknown   \n",
       "3  2008   47   blue-collar  married    unknown      no     yes   no  unknown   \n",
       "4  2008   33       unknown   single    unknown      no      no   no  unknown   \n",
       "\n",
       "  month  duration  campaign  pdays  previous poutcome   y  emp_var_rate  \\\n",
       "0   may       261         1     -1         0  unknown  no           1.1   \n",
       "1   may       151         1     -1         0  unknown  no           1.1   \n",
       "2   may        76         1     -1         0  unknown  no           1.1   \n",
       "3   may        92         1     -1         0  unknown  no           1.1   \n",
       "4   may       198         1     -1         0  unknown  no           1.1   \n",
       "\n",
       "   cons_price_idx  cons_conf_idx  euribor_3m  nr_employed  \n",
       "0          93.994          -36.4        4.85       5191.0  \n",
       "1          93.994          -36.4        4.85       5191.0  \n",
       "2          93.994          -36.4        4.85       5191.0  \n",
       "3          93.994          -36.4        4.85       5191.0  \n",
       "4          93.994          -36.4        4.85       5191.0  "
      ]
     },
     "execution_count": 27,
     "metadata": {},
     "output_type": "execute_result"
    }
   ],
   "source": [
    "dataframe_1.head()"
   ]
  },
  {
   "cell_type": "code",
   "execution_count": 28,
   "id": "a5bddbbb",
   "metadata": {},
   "outputs": [],
   "source": [
    "dataframe_1.to_csv('dataframe_1.csv')"
   ]
  },
  {
   "cell_type": "markdown",
   "id": "31352b58",
   "metadata": {},
   "source": [
    "### Bank Full Dataset (dataset-2)"
   ]
  },
  {
   "cell_type": "code",
   "execution_count": 29,
   "id": "2a348f2d",
   "metadata": {},
   "outputs": [],
   "source": [
    "# Read Spark Dataframe\n",
    "bank_add_full = spark.read.csv('bank-additional-full.csv', sep=\";\", header=True, inferSchema=True)"
   ]
  },
  {
   "cell_type": "code",
   "execution_count": 30,
   "id": "c7c8a383",
   "metadata": {},
   "outputs": [
    {
     "data": {
      "text/plain": [
       "41188"
      ]
     },
     "execution_count": 30,
     "metadata": {},
     "output_type": "execute_result"
    }
   ],
   "source": [
    "bank_add_full.count()"
   ]
  },
  {
   "cell_type": "code",
   "execution_count": 31,
   "id": "c59e7804",
   "metadata": {},
   "outputs": [
    {
     "data": {
      "text/html": [
       "<table border='1'>\n",
       "<tr><th>age</th><th>job</th><th>marital</th><th>education</th><th>default</th><th>housing</th><th>loan</th><th>contact</th><th>month</th><th>day_of_week</th><th>duration</th><th>campaign</th><th>pdays</th><th>previous</th><th>poutcome</th><th>emp.var.rate</th><th>cons.price.idx</th><th>cons.conf.idx</th><th>euribor3m</th><th>nr.employed</th><th>y</th></tr>\n",
       "<tr><td>56</td><td>housemaid</td><td>married</td><td>basic.4y</td><td>no</td><td>no</td><td>no</td><td>telephone</td><td>may</td><td>mon</td><td>261</td><td>1</td><td>999</td><td>0</td><td>nonexistent</td><td>1.1</td><td>93.994</td><td>-36.4</td><td>4.857</td><td>5191.0</td><td>no</td></tr>\n",
       "<tr><td>57</td><td>services</td><td>married</td><td>high.school</td><td>unknown</td><td>no</td><td>no</td><td>telephone</td><td>may</td><td>mon</td><td>149</td><td>1</td><td>999</td><td>0</td><td>nonexistent</td><td>1.1</td><td>93.994</td><td>-36.4</td><td>4.857</td><td>5191.0</td><td>no</td></tr>\n",
       "<tr><td>37</td><td>services</td><td>married</td><td>high.school</td><td>no</td><td>yes</td><td>no</td><td>telephone</td><td>may</td><td>mon</td><td>226</td><td>1</td><td>999</td><td>0</td><td>nonexistent</td><td>1.1</td><td>93.994</td><td>-36.4</td><td>4.857</td><td>5191.0</td><td>no</td></tr>\n",
       "<tr><td>40</td><td>admin.</td><td>married</td><td>basic.6y</td><td>no</td><td>no</td><td>no</td><td>telephone</td><td>may</td><td>mon</td><td>151</td><td>1</td><td>999</td><td>0</td><td>nonexistent</td><td>1.1</td><td>93.994</td><td>-36.4</td><td>4.857</td><td>5191.0</td><td>no</td></tr>\n",
       "<tr><td>56</td><td>services</td><td>married</td><td>high.school</td><td>no</td><td>no</td><td>yes</td><td>telephone</td><td>may</td><td>mon</td><td>307</td><td>1</td><td>999</td><td>0</td><td>nonexistent</td><td>1.1</td><td>93.994</td><td>-36.4</td><td>4.857</td><td>5191.0</td><td>no</td></tr>\n",
       "</table>\n"
      ],
      "text/plain": [
       "+---+---------+-------+-----------+-------+-------+----+---------+-----+-----------+--------+--------+-----+--------+-----------+------------+--------------+-------------+---------+-----------+---+\n",
       "|age|      job|marital|  education|default|housing|loan|  contact|month|day_of_week|duration|campaign|pdays|previous|   poutcome|emp.var.rate|cons.price.idx|cons.conf.idx|euribor3m|nr.employed|  y|\n",
       "+---+---------+-------+-----------+-------+-------+----+---------+-----+-----------+--------+--------+-----+--------+-----------+------------+--------------+-------------+---------+-----------+---+\n",
       "| 56|housemaid|married|   basic.4y|     no|     no|  no|telephone|  may|        mon|     261|       1|  999|       0|nonexistent|         1.1|        93.994|        -36.4|    4.857|     5191.0| no|\n",
       "| 57| services|married|high.school|unknown|     no|  no|telephone|  may|        mon|     149|       1|  999|       0|nonexistent|         1.1|        93.994|        -36.4|    4.857|     5191.0| no|\n",
       "| 37| services|married|high.school|     no|    yes|  no|telephone|  may|        mon|     226|       1|  999|       0|nonexistent|         1.1|        93.994|        -36.4|    4.857|     5191.0| no|\n",
       "| 40|   admin.|married|   basic.6y|     no|     no|  no|telephone|  may|        mon|     151|       1|  999|       0|nonexistent|         1.1|        93.994|        -36.4|    4.857|     5191.0| no|\n",
       "| 56| services|married|high.school|     no|     no| yes|telephone|  may|        mon|     307|       1|  999|       0|nonexistent|         1.1|        93.994|        -36.4|    4.857|     5191.0| no|\n",
       "+---+---------+-------+-----------+-------+-------+----+---------+-----+-----------+--------+--------+-----+--------+-----------+------------+--------------+-------------+---------+-----------+---+"
      ]
     },
     "metadata": {},
     "output_type": "display_data"
    }
   ],
   "source": [
    "display(bank_add_full.limit(5))"
   ]
  },
  {
   "cell_type": "code",
   "execution_count": 33,
   "id": "503ab48e",
   "metadata": {},
   "outputs": [],
   "source": [
    "# Use default index prevent overhead.\n",
    "ps.set_option(\"compute.default_index_type\", \"distributed\")\n",
    "\n",
    "warnings.filterwarnings(\"ignore\")  # Ignore warnings coming from Arrow optimizations.\n",
    "\n",
    "# To speed up dataset processing\n",
    "spark.conf.set(\"spark.sql.execution.arrow.pyspark.enabled\", True)\n",
    "\n",
    "bank_full_pdf = bank_add_full.toPandas()\n",
    "\n",
    "# Apply the function to the Pandas DataFrame\n",
    "new_pandas_df = year_mapper(bank_full_pdf, 2008, 2010)\n",
    "\n",
    "# Convert the updated Pandas DataFrame back to a PySpark DataFrame\n",
    "bank_add_full = spark.createDataFrame(new_pandas_df)"
   ]
  },
  {
   "cell_type": "markdown",
   "id": "1dfe0c9f",
   "metadata": {},
   "source": [
    "### replace values from 999 to -1"
   ]
  },
  {
   "cell_type": "code",
   "execution_count": 34,
   "id": "1a5d7376",
   "metadata": {},
   "outputs": [],
   "source": [
    "#changes the values from 999 to -1\n",
    "bank_add_full = bank_add_full.withColumn(\"pdays\", when(col(\"pdays\") == 999, -1).otherwise(col(\"pdays\")))"
   ]
  },
  {
   "cell_type": "markdown",
   "id": "68cad9ea",
   "metadata": {},
   "source": [
    "### Renaming columns names and values"
   ]
  },
  {
   "cell_type": "code",
   "execution_count": 35,
   "id": "f9a230d6",
   "metadata": {},
   "outputs": [],
   "source": [
    "#Replacing the columns names\n",
    "old_col_list = [\"emp.var.rate\", \"cons.price.idx\", \"cons.conf.idx\", \"euribor3m\", \"nr.employed\"]\n",
    "for i in range(0, len(old_col_list)):\n",
    "    bank_add_full = bank_add_full.withColumnRenamed(old_col_list[i], new_cols[i])"
   ]
  },
  {
   "cell_type": "code",
   "execution_count": 36,
   "id": "a19d60eb",
   "metadata": {},
   "outputs": [],
   "source": [
    "#Renaming the categories names from education columns\n",
    "old_edu = [\"basic.4y\", \"high.school\", \"basic.6y\", \"basic.9y\", \"university.degree\", \"professional.course\"]\n",
    "new_edu = [\"basic_4y\", \"high_school\", \"basic_6y\", \"basic_9y\", \"university_degree\" ,\"professional_course\"]\n",
    "\n",
    "for i in range(0,6):\n",
    "    bank_add_full = bank_add_full.withColumn(\"education\", when(col(\"education\") == old_edu[i], new_edu[i]).otherwise(col(\"education\")))"
   ]
  },
  {
   "cell_type": "code",
   "execution_count": 37,
   "id": "e487edd1",
   "metadata": {},
   "outputs": [
    {
     "data": {
      "text/html": [
       "<table border='1'>\n",
       "<tr><th>year</th><th>age</th><th>job</th><th>marital</th><th>education</th><th>default</th><th>housing</th><th>loan</th><th>contact</th><th>month</th><th>day_of_week</th><th>duration</th><th>campaign</th><th>pdays</th><th>previous</th><th>poutcome</th><th>emp_var_rate</th><th>cons_price_idx</th><th>cons_conf_idx</th><th>euribor_3m</th><th>nr_employed</th><th>y</th></tr>\n",
       "<tr><td>2008</td><td>56</td><td>housemaid</td><td>married</td><td>basic_4y</td><td>no</td><td>no</td><td>no</td><td>telephone</td><td>may</td><td>mon</td><td>261</td><td>1</td><td>-1</td><td>0</td><td>nonexistent</td><td>1.1</td><td>93.994</td><td>-36.4</td><td>4.857</td><td>5191.0</td><td>no</td></tr>\n",
       "<tr><td>2008</td><td>57</td><td>services</td><td>married</td><td>high_school</td><td>unknown</td><td>no</td><td>no</td><td>telephone</td><td>may</td><td>mon</td><td>149</td><td>1</td><td>-1</td><td>0</td><td>nonexistent</td><td>1.1</td><td>93.994</td><td>-36.4</td><td>4.857</td><td>5191.0</td><td>no</td></tr>\n",
       "<tr><td>2008</td><td>37</td><td>services</td><td>married</td><td>high_school</td><td>no</td><td>yes</td><td>no</td><td>telephone</td><td>may</td><td>mon</td><td>226</td><td>1</td><td>-1</td><td>0</td><td>nonexistent</td><td>1.1</td><td>93.994</td><td>-36.4</td><td>4.857</td><td>5191.0</td><td>no</td></tr>\n",
       "<tr><td>2008</td><td>40</td><td>admin.</td><td>married</td><td>basic_6y</td><td>no</td><td>no</td><td>no</td><td>telephone</td><td>may</td><td>mon</td><td>151</td><td>1</td><td>-1</td><td>0</td><td>nonexistent</td><td>1.1</td><td>93.994</td><td>-36.4</td><td>4.857</td><td>5191.0</td><td>no</td></tr>\n",
       "<tr><td>2008</td><td>56</td><td>services</td><td>married</td><td>high_school</td><td>no</td><td>no</td><td>yes</td><td>telephone</td><td>may</td><td>mon</td><td>307</td><td>1</td><td>-1</td><td>0</td><td>nonexistent</td><td>1.1</td><td>93.994</td><td>-36.4</td><td>4.857</td><td>5191.0</td><td>no</td></tr>\n",
       "</table>\n"
      ],
      "text/plain": [
       "+----+---+---------+-------+-----------+-------+-------+----+---------+-----+-----------+--------+--------+-----+--------+-----------+------------+--------------+-------------+----------+-----------+---+\n",
       "|year|age|      job|marital|  education|default|housing|loan|  contact|month|day_of_week|duration|campaign|pdays|previous|   poutcome|emp_var_rate|cons_price_idx|cons_conf_idx|euribor_3m|nr_employed|  y|\n",
       "+----+---+---------+-------+-----------+-------+-------+----+---------+-----+-----------+--------+--------+-----+--------+-----------+------------+--------------+-------------+----------+-----------+---+\n",
       "|2008| 56|housemaid|married|   basic_4y|     no|     no|  no|telephone|  may|        mon|     261|       1|   -1|       0|nonexistent|         1.1|        93.994|        -36.4|     4.857|     5191.0| no|\n",
       "|2008| 57| services|married|high_school|unknown|     no|  no|telephone|  may|        mon|     149|       1|   -1|       0|nonexistent|         1.1|        93.994|        -36.4|     4.857|     5191.0| no|\n",
       "|2008| 37| services|married|high_school|     no|    yes|  no|telephone|  may|        mon|     226|       1|   -1|       0|nonexistent|         1.1|        93.994|        -36.4|     4.857|     5191.0| no|\n",
       "|2008| 40|   admin.|married|   basic_6y|     no|     no|  no|telephone|  may|        mon|     151|       1|   -1|       0|nonexistent|         1.1|        93.994|        -36.4|     4.857|     5191.0| no|\n",
       "|2008| 56| services|married|high_school|     no|     no| yes|telephone|  may|        mon|     307|       1|   -1|       0|nonexistent|         1.1|        93.994|        -36.4|     4.857|     5191.0| no|\n",
       "+----+---+---------+-------+-----------+-------+-------+----+---------+-----+-----------+--------+--------+-----+--------+-----------+------------+--------------+-------------+----------+-----------+---+"
      ]
     },
     "metadata": {},
     "output_type": "display_data"
    }
   ],
   "source": [
    "display(bank_add_full.limit(5))"
   ]
  },
  {
   "cell_type": "code",
   "execution_count": 38,
   "id": "6a8b90b4",
   "metadata": {},
   "outputs": [
    {
     "name": "stdout",
     "output_type": "stream",
     "text": [
      "root\n",
      " |-- year: long (nullable = true)\n",
      " |-- age: integer (nullable = true)\n",
      " |-- job: string (nullable = true)\n",
      " |-- marital: string (nullable = true)\n",
      " |-- education: string (nullable = true)\n",
      " |-- default: string (nullable = true)\n",
      " |-- housing: string (nullable = true)\n",
      " |-- loan: string (nullable = true)\n",
      " |-- contact: string (nullable = true)\n",
      " |-- month: string (nullable = true)\n",
      " |-- duration: integer (nullable = true)\n",
      " |-- campaign: integer (nullable = true)\n",
      " |-- pdays: integer (nullable = true)\n",
      " |-- previous: integer (nullable = true)\n",
      " |-- poutcome: string (nullable = true)\n",
      " |-- y: string (nullable = true)\n",
      " |-- emp_var_rate: double (nullable = true)\n",
      " |-- cons_price_idx: double (nullable = true)\n",
      " |-- cons_conf_idx: double (nullable = true)\n",
      " |-- euribor_3m: double (nullable = true)\n",
      " |-- nr_employed: double (nullable = true)\n",
      "\n"
     ]
    }
   ],
   "source": [
    "bank_full.printSchema()"
   ]
  },
  {
   "cell_type": "code",
   "execution_count": 39,
   "id": "22410925",
   "metadata": {},
   "outputs": [],
   "source": [
    "#dropping the column day_of week\n",
    "bank_add_full = bank_add_full.drop(\"day_of_week\")"
   ]
  },
  {
   "cell_type": "code",
   "execution_count": 40,
   "id": "fb7d988d",
   "metadata": {},
   "outputs": [],
   "source": [
    "dataframe_2 = bank_add_full.toPandas()"
   ]
  },
  {
   "cell_type": "code",
   "execution_count": 41,
   "id": "8ae0c4a9",
   "metadata": {},
   "outputs": [],
   "source": [
    "dataframe_2.to_csv('dataframe_2.csv')"
   ]
  },
  {
   "cell_type": "markdown",
   "id": "713cefcd",
   "metadata": {},
   "source": [
    "## Concat two dataframes"
   ]
  },
  {
   "cell_type": "code",
   "execution_count": 42,
   "id": "933c154f",
   "metadata": {},
   "outputs": [],
   "source": [
    "#Concating two dataframes\n",
    "frames  = [dataframe_1, dataframe_2]\n",
    "\n",
    "bank = pd.concat(frames)"
   ]
  },
  {
   "cell_type": "code",
   "execution_count": 43,
   "id": "537d1d9c",
   "metadata": {},
   "outputs": [
    {
     "data": {
      "text/html": [
       "<div>\n",
       "<style scoped>\n",
       "    .dataframe tbody tr th:only-of-type {\n",
       "        vertical-align: middle;\n",
       "    }\n",
       "\n",
       "    .dataframe tbody tr th {\n",
       "        vertical-align: top;\n",
       "    }\n",
       "\n",
       "    .dataframe thead th {\n",
       "        text-align: right;\n",
       "    }\n",
       "</style>\n",
       "<table border=\"1\" class=\"dataframe\">\n",
       "  <thead>\n",
       "    <tr style=\"text-align: right;\">\n",
       "      <th></th>\n",
       "      <th>year</th>\n",
       "      <th>age</th>\n",
       "      <th>job</th>\n",
       "      <th>marital</th>\n",
       "      <th>education</th>\n",
       "      <th>default</th>\n",
       "      <th>housing</th>\n",
       "      <th>loan</th>\n",
       "      <th>contact</th>\n",
       "      <th>month</th>\n",
       "      <th>duration</th>\n",
       "      <th>campaign</th>\n",
       "      <th>pdays</th>\n",
       "      <th>previous</th>\n",
       "      <th>poutcome</th>\n",
       "      <th>y</th>\n",
       "      <th>emp_var_rate</th>\n",
       "      <th>cons_price_idx</th>\n",
       "      <th>cons_conf_idx</th>\n",
       "      <th>euribor_3m</th>\n",
       "      <th>nr_employed</th>\n",
       "    </tr>\n",
       "  </thead>\n",
       "  <tbody>\n",
       "    <tr>\n",
       "      <th>0</th>\n",
       "      <td>2008</td>\n",
       "      <td>58</td>\n",
       "      <td>management</td>\n",
       "      <td>married</td>\n",
       "      <td>tertiary</td>\n",
       "      <td>no</td>\n",
       "      <td>yes</td>\n",
       "      <td>no</td>\n",
       "      <td>unknown</td>\n",
       "      <td>may</td>\n",
       "      <td>261</td>\n",
       "      <td>1</td>\n",
       "      <td>-1</td>\n",
       "      <td>0</td>\n",
       "      <td>unknown</td>\n",
       "      <td>no</td>\n",
       "      <td>1.1</td>\n",
       "      <td>93.994</td>\n",
       "      <td>-36.4</td>\n",
       "      <td>4.85</td>\n",
       "      <td>5191.0</td>\n",
       "    </tr>\n",
       "    <tr>\n",
       "      <th>1</th>\n",
       "      <td>2008</td>\n",
       "      <td>44</td>\n",
       "      <td>technician</td>\n",
       "      <td>single</td>\n",
       "      <td>secondary</td>\n",
       "      <td>no</td>\n",
       "      <td>yes</td>\n",
       "      <td>no</td>\n",
       "      <td>unknown</td>\n",
       "      <td>may</td>\n",
       "      <td>151</td>\n",
       "      <td>1</td>\n",
       "      <td>-1</td>\n",
       "      <td>0</td>\n",
       "      <td>unknown</td>\n",
       "      <td>no</td>\n",
       "      <td>1.1</td>\n",
       "      <td>93.994</td>\n",
       "      <td>-36.4</td>\n",
       "      <td>4.85</td>\n",
       "      <td>5191.0</td>\n",
       "    </tr>\n",
       "    <tr>\n",
       "      <th>2</th>\n",
       "      <td>2008</td>\n",
       "      <td>33</td>\n",
       "      <td>entrepreneur</td>\n",
       "      <td>married</td>\n",
       "      <td>secondary</td>\n",
       "      <td>no</td>\n",
       "      <td>yes</td>\n",
       "      <td>yes</td>\n",
       "      <td>unknown</td>\n",
       "      <td>may</td>\n",
       "      <td>76</td>\n",
       "      <td>1</td>\n",
       "      <td>-1</td>\n",
       "      <td>0</td>\n",
       "      <td>unknown</td>\n",
       "      <td>no</td>\n",
       "      <td>1.1</td>\n",
       "      <td>93.994</td>\n",
       "      <td>-36.4</td>\n",
       "      <td>4.85</td>\n",
       "      <td>5191.0</td>\n",
       "    </tr>\n",
       "    <tr>\n",
       "      <th>3</th>\n",
       "      <td>2008</td>\n",
       "      <td>47</td>\n",
       "      <td>blue-collar</td>\n",
       "      <td>married</td>\n",
       "      <td>unknown</td>\n",
       "      <td>no</td>\n",
       "      <td>yes</td>\n",
       "      <td>no</td>\n",
       "      <td>unknown</td>\n",
       "      <td>may</td>\n",
       "      <td>92</td>\n",
       "      <td>1</td>\n",
       "      <td>-1</td>\n",
       "      <td>0</td>\n",
       "      <td>unknown</td>\n",
       "      <td>no</td>\n",
       "      <td>1.1</td>\n",
       "      <td>93.994</td>\n",
       "      <td>-36.4</td>\n",
       "      <td>4.85</td>\n",
       "      <td>5191.0</td>\n",
       "    </tr>\n",
       "    <tr>\n",
       "      <th>4</th>\n",
       "      <td>2008</td>\n",
       "      <td>33</td>\n",
       "      <td>unknown</td>\n",
       "      <td>single</td>\n",
       "      <td>unknown</td>\n",
       "      <td>no</td>\n",
       "      <td>no</td>\n",
       "      <td>no</td>\n",
       "      <td>unknown</td>\n",
       "      <td>may</td>\n",
       "      <td>198</td>\n",
       "      <td>1</td>\n",
       "      <td>-1</td>\n",
       "      <td>0</td>\n",
       "      <td>unknown</td>\n",
       "      <td>no</td>\n",
       "      <td>1.1</td>\n",
       "      <td>93.994</td>\n",
       "      <td>-36.4</td>\n",
       "      <td>4.85</td>\n",
       "      <td>5191.0</td>\n",
       "    </tr>\n",
       "  </tbody>\n",
       "</table>\n",
       "</div>"
      ],
      "text/plain": [
       "   year  age           job  marital  education default housing loan  contact  \\\n",
       "0  2008   58    management  married   tertiary      no     yes   no  unknown   \n",
       "1  2008   44    technician   single  secondary      no     yes   no  unknown   \n",
       "2  2008   33  entrepreneur  married  secondary      no     yes  yes  unknown   \n",
       "3  2008   47   blue-collar  married    unknown      no     yes   no  unknown   \n",
       "4  2008   33       unknown   single    unknown      no      no   no  unknown   \n",
       "\n",
       "  month  duration  campaign  pdays  previous poutcome   y  emp_var_rate  \\\n",
       "0   may       261         1     -1         0  unknown  no           1.1   \n",
       "1   may       151         1     -1         0  unknown  no           1.1   \n",
       "2   may        76         1     -1         0  unknown  no           1.1   \n",
       "3   may        92         1     -1         0  unknown  no           1.1   \n",
       "4   may       198         1     -1         0  unknown  no           1.1   \n",
       "\n",
       "   cons_price_idx  cons_conf_idx  euribor_3m  nr_employed  \n",
       "0          93.994          -36.4        4.85       5191.0  \n",
       "1          93.994          -36.4        4.85       5191.0  \n",
       "2          93.994          -36.4        4.85       5191.0  \n",
       "3          93.994          -36.4        4.85       5191.0  \n",
       "4          93.994          -36.4        4.85       5191.0  "
      ]
     },
     "execution_count": 43,
     "metadata": {},
     "output_type": "execute_result"
    }
   ],
   "source": [
    "bank.head()"
   ]
  },
  {
   "cell_type": "code",
   "execution_count": 44,
   "id": "3b76a003",
   "metadata": {},
   "outputs": [],
   "source": [
    "#bank.to_csv('final_data.csv')\n",
    "bank.to_parquet(\"bank_data_pdf.parquet\")"
   ]
  },
  {
   "cell_type": "code",
   "execution_count": 45,
   "id": "d4d7fc65",
   "metadata": {},
   "outputs": [],
   "source": [
    "# read the parquet file\n",
    "bank_data = spark.read.parquet('bank_data_pdf.parquet')\n",
    "#bank_data = spark.read.csv('final_data.csv',header=True,inferSchema=True)"
   ]
  },
  {
   "cell_type": "code",
   "execution_count": 46,
   "id": "9e23ede6",
   "metadata": {},
   "outputs": [],
   "source": [
    "#dropping id\n",
    "bank_data = bank_data.drop(\"_c0\")"
   ]
  },
  {
   "cell_type": "code",
   "execution_count": 47,
   "id": "1e3a7488",
   "metadata": {},
   "outputs": [
    {
     "data": {
      "text/html": [
       "<table border='1'>\n",
       "<tr><th>year</th><th>age</th><th>job</th><th>marital</th><th>education</th><th>default</th><th>housing</th><th>loan</th><th>contact</th><th>month</th><th>duration</th><th>campaign</th><th>pdays</th><th>previous</th><th>poutcome</th><th>y</th><th>emp_var_rate</th><th>cons_price_idx</th><th>cons_conf_idx</th><th>euribor_3m</th><th>nr_employed</th><th>__index_level_0__</th></tr>\n",
       "<tr><td>2008</td><td>58</td><td>management</td><td>married</td><td>tertiary</td><td>no</td><td>yes</td><td>no</td><td>unknown</td><td>may</td><td>261</td><td>1</td><td>-1</td><td>0</td><td>unknown</td><td>no</td><td>1.1</td><td>93.994</td><td>-36.4</td><td>4.85</td><td>5191.0</td><td>0</td></tr>\n",
       "<tr><td>2008</td><td>44</td><td>technician</td><td>single</td><td>secondary</td><td>no</td><td>yes</td><td>no</td><td>unknown</td><td>may</td><td>151</td><td>1</td><td>-1</td><td>0</td><td>unknown</td><td>no</td><td>1.1</td><td>93.994</td><td>-36.4</td><td>4.85</td><td>5191.0</td><td>1</td></tr>\n",
       "<tr><td>2008</td><td>33</td><td>entrepreneur</td><td>married</td><td>secondary</td><td>no</td><td>yes</td><td>yes</td><td>unknown</td><td>may</td><td>76</td><td>1</td><td>-1</td><td>0</td><td>unknown</td><td>no</td><td>1.1</td><td>93.994</td><td>-36.4</td><td>4.85</td><td>5191.0</td><td>2</td></tr>\n",
       "<tr><td>2008</td><td>47</td><td>blue-collar</td><td>married</td><td>unknown</td><td>no</td><td>yes</td><td>no</td><td>unknown</td><td>may</td><td>92</td><td>1</td><td>-1</td><td>0</td><td>unknown</td><td>no</td><td>1.1</td><td>93.994</td><td>-36.4</td><td>4.85</td><td>5191.0</td><td>3</td></tr>\n",
       "<tr><td>2008</td><td>33</td><td>unknown</td><td>single</td><td>unknown</td><td>no</td><td>no</td><td>no</td><td>unknown</td><td>may</td><td>198</td><td>1</td><td>-1</td><td>0</td><td>unknown</td><td>no</td><td>1.1</td><td>93.994</td><td>-36.4</td><td>4.85</td><td>5191.0</td><td>4</td></tr>\n",
       "</table>\n"
      ],
      "text/plain": [
       "+----+---+------------+-------+---------+-------+-------+----+-------+-----+--------+--------+-----+--------+--------+---+------------+--------------+-------------+----------+-----------+-----------------+\n",
       "|year|age|         job|marital|education|default|housing|loan|contact|month|duration|campaign|pdays|previous|poutcome|  y|emp_var_rate|cons_price_idx|cons_conf_idx|euribor_3m|nr_employed|__index_level_0__|\n",
       "+----+---+------------+-------+---------+-------+-------+----+-------+-----+--------+--------+-----+--------+--------+---+------------+--------------+-------------+----------+-----------+-----------------+\n",
       "|2008| 58|  management|married| tertiary|     no|    yes|  no|unknown|  may|     261|       1|   -1|       0| unknown| no|         1.1|        93.994|        -36.4|      4.85|     5191.0|                0|\n",
       "|2008| 44|  technician| single|secondary|     no|    yes|  no|unknown|  may|     151|       1|   -1|       0| unknown| no|         1.1|        93.994|        -36.4|      4.85|     5191.0|                1|\n",
       "|2008| 33|entrepreneur|married|secondary|     no|    yes| yes|unknown|  may|      76|       1|   -1|       0| unknown| no|         1.1|        93.994|        -36.4|      4.85|     5191.0|                2|\n",
       "|2008| 47| blue-collar|married|  unknown|     no|    yes|  no|unknown|  may|      92|       1|   -1|       0| unknown| no|         1.1|        93.994|        -36.4|      4.85|     5191.0|                3|\n",
       "|2008| 33|     unknown| single|  unknown|     no|     no|  no|unknown|  may|     198|       1|   -1|       0| unknown| no|         1.1|        93.994|        -36.4|      4.85|     5191.0|                4|\n",
       "+----+---+------------+-------+---------+-------+-------+----+-------+-----+--------+--------+-----+--------+--------+---+------------+--------------+-------------+----------+-----------+-----------------+"
      ]
     },
     "metadata": {},
     "output_type": "display_data"
    }
   ],
   "source": [
    "display(bank_data.limit(5))"
   ]
  },
  {
   "cell_type": "code",
   "execution_count": 48,
   "id": "61e67210",
   "metadata": {},
   "outputs": [
    {
     "name": "stdout",
     "output_type": "stream",
     "text": [
      "root\n",
      " |-- year: long (nullable = true)\n",
      " |-- age: integer (nullable = true)\n",
      " |-- job: string (nullable = true)\n",
      " |-- marital: string (nullable = true)\n",
      " |-- education: string (nullable = true)\n",
      " |-- default: string (nullable = true)\n",
      " |-- housing: string (nullable = true)\n",
      " |-- loan: string (nullable = true)\n",
      " |-- contact: string (nullable = true)\n",
      " |-- month: string (nullable = true)\n",
      " |-- duration: integer (nullable = true)\n",
      " |-- campaign: integer (nullable = true)\n",
      " |-- pdays: integer (nullable = true)\n",
      " |-- previous: integer (nullable = true)\n",
      " |-- poutcome: string (nullable = true)\n",
      " |-- y: string (nullable = true)\n",
      " |-- emp_var_rate: double (nullable = true)\n",
      " |-- cons_price_idx: double (nullable = true)\n",
      " |-- cons_conf_idx: double (nullable = true)\n",
      " |-- euribor_3m: double (nullable = true)\n",
      " |-- nr_employed: double (nullable = true)\n",
      " |-- __index_level_0__: long (nullable = true)\n",
      "\n"
     ]
    }
   ],
   "source": [
    "bank_data.printSchema()"
   ]
  },
  {
   "cell_type": "code",
   "execution_count": 49,
   "id": "434c3282",
   "metadata": {},
   "outputs": [
    {
     "data": {
      "text/plain": [
       "86399"
      ]
     },
     "execution_count": 49,
     "metadata": {},
     "output_type": "execute_result"
    }
   ],
   "source": [
    "bank_data.count()"
   ]
  },
  {
   "cell_type": "code",
   "execution_count": 50,
   "id": "2420e529",
   "metadata": {},
   "outputs": [
    {
     "data": {
      "text/html": [
       "<table border='1'>\n",
       "<tr><th>summary</th><th>year</th><th>age</th><th>job</th><th>marital</th><th>education</th><th>default</th><th>housing</th><th>loan</th><th>contact</th><th>month</th><th>duration</th><th>campaign</th><th>pdays</th><th>previous</th><th>poutcome</th><th>y</th><th>emp_var_rate</th><th>cons_price_idx</th><th>cons_conf_idx</th><th>euribor_3m</th><th>nr_employed</th><th>__index_level_0__</th></tr>\n",
       "<tr><td>count</td><td>86399</td><td>86399</td><td>86399</td><td>86399</td><td>86399</td><td>86399</td><td>86399</td><td>86399</td><td>86399</td><td>86399</td><td>86399</td><td>86399</td><td>86399</td><td>86399</td><td>86399</td><td>86399</td><td>86399</td><td>82347</td><td>82347</td><td>82347</td><td>86399</td><td>86399</td></tr>\n",
       "<tr><td>mean</td><td>2008.4127131101054</td><td>40.50137154365213</td><td>null</td><td>null</td><td>null</td><td>null</td><td>null</td><td>null</td><td>null</td><td>null</td><td>258.2212062639614</td><td>2.670285535712219</td><td>20.68106112339263</td><td>0.3861271542494705</td><td>null</td><td>null</td><td>0.0520955103653224</td><td>93.57679853548213</td><td>-40.48362053264231</td><td>3.638350553146894</td><td>5166.518884484254</td><td>21646.080776397874</td></tr>\n",
       "<tr><td>stddev</td><td>0.5921767877884162</td><td>10.534861414565343</td><td>null</td><td>null</td><td>null</td><td>null</td><td>null</td><td>null</td><td>null</td><td>null</td><td>258.36274637491704</td><td>2.947825240834214</td><td>75.26914071561545</td><td>1.7130601312833402</td><td>null</td><td>null</td><td>1.552601159884045</td><td>0.5794941097707781</td><td>4.625350257118373</td><td>1.7260917956494208</td><td>71.3463353713149</td><td>12551.457936477302</td></tr>\n",
       "<tr><td>min</td><td>2008</td><td>17</td><td>admin.</td><td>divorced</td><td>basic_4y</td><td>no</td><td>no</td><td>no</td><td>cellular</td><td>apr</td><td>0</td><td>1</td><td>-1</td><td>0</td><td>failure</td><td>no</td><td>-3.4</td><td>92.201</td><td>-50.8</td><td>0.634</td><td>4963.6</td><td>0</td></tr>\n",
       "<tr><td>25%</td><td>2008</td><td>32</td><td>null</td><td>null</td><td>null</td><td>null</td><td>null</td><td>null</td><td>null</td><td>null</td><td>103</td><td>1</td><td>-1</td><td>0</td><td>null</td><td>null</td><td>-1.8</td><td>93.075</td><td>-42.7</td><td>1.334</td><td>5099.1</td><td>10798</td></tr>\n",
       "<tr><td>50%</td><td>2008</td><td>39</td><td>null</td><td>null</td><td>null</td><td>null</td><td>null</td><td>null</td><td>null</td><td>null</td><td>180</td><td>2</td><td>-1</td><td>0</td><td>null</td><td>null</td><td>1.1</td><td>93.749</td><td>-41.8</td><td>4.85</td><td>5191.0</td><td>21596</td></tr>\n",
       "<tr><td>75%</td><td>2009</td><td>48</td><td>null</td><td>null</td><td>null</td><td>null</td><td>null</td><td>null</td><td>null</td><td>null</td><td>319</td><td>3</td><td>-1</td><td>0</td><td>null</td><td>null</td><td>1.4</td><td>93.994</td><td>-36.4</td><td>4.96</td><td>5228.1</td><td>32399</td></tr>\n",
       "<tr><td>max</td><td>2010</td><td>98</td><td>unknown</td><td>unknown</td><td>unknown</td><td>yes</td><td>yes</td><td>yes</td><td>unknown</td><td>sep</td><td>4918</td><td>63</td><td>871</td><td>275</td><td>unknown</td><td>yes</td><td>1.4</td><td>94.767</td><td>-26.9</td><td>5.045</td><td>5228.1</td><td>45210</td></tr>\n",
       "</table>\n"
      ],
      "text/plain": [
       "+-------+------------------+------------------+-------+--------+---------+-------+-------+-----+--------+-----+------------------+-----------------+-----------------+------------------+--------+-----+------------------+------------------+------------------+------------------+-----------------+------------------+\n",
       "|summary|              year|               age|    job| marital|education|default|housing| loan| contact|month|          duration|         campaign|            pdays|          previous|poutcome|    y|      emp_var_rate|    cons_price_idx|     cons_conf_idx|        euribor_3m|      nr_employed| __index_level_0__|\n",
       "+-------+------------------+------------------+-------+--------+---------+-------+-------+-----+--------+-----+------------------+-----------------+-----------------+------------------+--------+-----+------------------+------------------+------------------+------------------+-----------------+------------------+\n",
       "|  count|             86399|             86399|  86399|   86399|    86399|  86399|  86399|86399|   86399|86399|             86399|            86399|            86399|             86399|   86399|86399|             86399|             82347|             82347|             82347|            86399|             86399|\n",
       "|   mean|2008.4127131101054| 40.50137154365213|   null|    null|     null|   null|   null| null|    null| null| 258.2212062639614|2.670285535712219|20.68106112339263|0.3861271542494705|    null| null|0.0520955103653224| 93.57679853548213|-40.48362053264231| 3.638350553146894|5166.518884484254|21646.080776397874|\n",
       "| stddev|0.5921767877884162|10.534861414565343|   null|    null|     null|   null|   null| null|    null| null|258.36274637491704|2.947825240834214|75.26914071561545|1.7130601312833402|    null| null| 1.552601159884045|0.5794941097707781| 4.625350257118373|1.7260917956494208| 71.3463353713149|12551.457936477302|\n",
       "|    min|              2008|                17| admin.|divorced| basic_4y|     no|     no|   no|cellular|  apr|                 0|                1|               -1|                 0| failure|   no|              -3.4|            92.201|             -50.8|             0.634|           4963.6|                 0|\n",
       "|    25%|              2008|                32|   null|    null|     null|   null|   null| null|    null| null|               103|                1|               -1|                 0|    null| null|              -1.8|            93.075|             -42.7|             1.334|           5099.1|             10798|\n",
       "|    50%|              2008|                39|   null|    null|     null|   null|   null| null|    null| null|               180|                2|               -1|                 0|    null| null|               1.1|            93.749|             -41.8|              4.85|           5191.0|             21596|\n",
       "|    75%|              2009|                48|   null|    null|     null|   null|   null| null|    null| null|               319|                3|               -1|                 0|    null| null|               1.4|            93.994|             -36.4|              4.96|           5228.1|             32399|\n",
       "|    max|              2010|                98|unknown| unknown|  unknown|    yes|    yes|  yes| unknown|  sep|              4918|               63|              871|               275| unknown|  yes|               1.4|            94.767|             -26.9|             5.045|           5228.1|             45210|\n",
       "+-------+------------------+------------------+-------+--------+---------+-------+-------+-----+--------+-----+------------------+-----------------+-----------------+------------------+--------+-----+------------------+------------------+------------------+------------------+-----------------+------------------+"
      ]
     },
     "execution_count": 50,
     "metadata": {},
     "output_type": "execute_result"
    }
   ],
   "source": [
    "#prints the summary of dataframes with std, means and quartiles\n",
    "bank_data.summary()"
   ]
  },
  {
   "cell_type": "code",
   "execution_count": 51,
   "id": "41e1399b",
   "metadata": {},
   "outputs": [],
   "source": [
    "#seperating the continuous and categorical variables\n",
    "cat_col = [\"job\",\"marital\",\"education\",\"default\",\"housing\",\"loan\",\"contact\",\"month\",\"year\",\"y\"]\n",
    "cont_col = [\"age\",\"duration\",\"campaign\",\"pdays\",\"previous\",\"emp_var_rate\",\"cons_price_idx\",\"cons_conf_idx\",\"euribor_3m\",\"nr_employed\"]\n",
    "categories = bank_data.select(cat_col)\n",
    "continuous = bank_data.select(cont_col)"
   ]
  },
  {
   "cell_type": "markdown",
   "id": "012a8de0",
   "metadata": {},
   "source": [
    "### Unique value counts"
   ]
  },
  {
   "cell_type": "code",
   "execution_count": 52,
   "id": "8b6b21ab",
   "metadata": {},
   "outputs": [
    {
     "name": "stdout",
     "output_type": "stream",
     "text": [
      "Column Name Column<'job'>\n",
      "-----------------------\n",
      "+-------------+-----+\n",
      "|          job|count|\n",
      "+-------------+-----+\n",
      "|   management|12382|\n",
      "|      retired| 3984|\n",
      "|      unknown|  618|\n",
      "|self-employed| 3000|\n",
      "|      student| 1813|\n",
      "|  blue-collar|18986|\n",
      "| entrepreneur| 2943|\n",
      "|       admin.|15593|\n",
      "|   technician|14340|\n",
      "|     services| 8123|\n",
      "|    housemaid| 2300|\n",
      "|   unemployed| 2317|\n",
      "+-------------+-----+\n",
      "\n",
      "     \n",
      "******************************************************\n",
      "     \n",
      "Column Name Column<'marital'>\n",
      "-----------------------\n",
      "+--------+-----+\n",
      "| marital|count|\n",
      "+--------+-----+\n",
      "| unknown|   80|\n",
      "|divorced| 9819|\n",
      "| married|52142|\n",
      "|  single|24358|\n",
      "+--------+-----+\n",
      "\n",
      "     \n",
      "******************************************************\n",
      "     \n",
      "Column Name Column<'education'>\n",
      "-----------------------\n",
      "+-------------------+-----+\n",
      "|          education|count|\n",
      "+-------------------+-----+\n",
      "|professional_course| 5243|\n",
      "|           basic_4y| 4176|\n",
      "|            unknown| 3588|\n",
      "|           tertiary|13301|\n",
      "|           basic_9y| 6045|\n",
      "|         illiterate|   18|\n",
      "|          secondary|23202|\n",
      "|           basic_6y| 2292|\n",
      "|            primary| 6851|\n",
      "|        high_school| 9515|\n",
      "|  university_degree|12168|\n",
      "+-------------------+-----+\n",
      "\n",
      "     \n",
      "******************************************************\n",
      "     \n",
      "Column Name Column<'default'>\n",
      "-----------------------\n",
      "+-------+-----+\n",
      "|default|count|\n",
      "+-------+-----+\n",
      "|unknown| 8597|\n",
      "|     no|76984|\n",
      "|    yes|  818|\n",
      "+-------+-----+\n",
      "\n",
      "     \n",
      "******************************************************\n",
      "     \n",
      "Column Name Column<'housing'>\n",
      "-----------------------\n",
      "+-------+-----+\n",
      "|housing|count|\n",
      "+-------+-----+\n",
      "|unknown|  990|\n",
      "|     no|38703|\n",
      "|    yes|46706|\n",
      "+-------+-----+\n",
      "\n",
      "     \n",
      "******************************************************\n",
      "     \n",
      "Column Name Column<'loan'>\n",
      "-----------------------\n",
      "+-------+-----+\n",
      "|   loan|count|\n",
      "+-------+-----+\n",
      "|unknown|  990|\n",
      "|     no|71917|\n",
      "|    yes|13492|\n",
      "+-------+-----+\n",
      "\n",
      "     \n",
      "******************************************************\n",
      "     \n",
      "Column Name Column<'contact'>\n",
      "-----------------------\n",
      "+---------+-----+\n",
      "|  contact|count|\n",
      "+---------+-----+\n",
      "|  unknown|13020|\n",
      "| cellular|55429|\n",
      "|telephone|17950|\n",
      "+---------+-----+\n",
      "\n",
      "     \n",
      "******************************************************\n",
      "     \n",
      "Column Name Column<'month'>\n",
      "-----------------------\n",
      "+-----+-----+\n",
      "|month|count|\n",
      "+-----+-----+\n",
      "|  jun|10659|\n",
      "|  aug|12425|\n",
      "|  may|27535|\n",
      "|  feb| 2649|\n",
      "|  sep| 1149|\n",
      "|  mar| 1023|\n",
      "|  oct| 1456|\n",
      "|  jul|14069|\n",
      "|  nov| 8071|\n",
      "|  apr| 5564|\n",
      "|  dec|  396|\n",
      "|  jan| 1403|\n",
      "+-----+-----+\n",
      "\n",
      "     \n",
      "******************************************************\n",
      "     \n",
      "Column Name Column<'year'>\n",
      "-----------------------\n",
      "+----+-----+\n",
      "|year|count|\n",
      "+----+-----+\n",
      "|2009|26302|\n",
      "|2010| 4678|\n",
      "|2008|55419|\n",
      "+----+-----+\n",
      "\n",
      "     \n",
      "******************************************************\n",
      "     \n",
      "Column Name Column<'y'>\n",
      "-----------------------\n",
      "+---+-----+\n",
      "|  y|count|\n",
      "+---+-----+\n",
      "| no|76470|\n",
      "|yes| 9929|\n",
      "+---+-----+\n",
      "\n",
      "     \n",
      "******************************************************\n",
      "     \n"
     ]
    }
   ],
   "source": [
    "#Prints the value counts for categrical columns\n",
    "for columns in categories:\n",
    "    print(\"Column Name\", columns)\n",
    "    print(\"-----------------------\")\n",
    "    counts = bank_data.groupBy(columns).count()\n",
    "    counts.show()\n",
    "    print(\"     \")\n",
    "    print(\"******************************************************\")\n",
    "    print(\"     \")"
   ]
  },
  {
   "cell_type": "markdown",
   "id": "bbfac811",
   "metadata": {},
   "source": [
    "## Data Preprocessing"
   ]
  },
  {
   "cell_type": "code",
   "execution_count": 53,
   "id": "4da98fd0",
   "metadata": {},
   "outputs": [],
   "source": [
    "#Rename .admin category to admin\n",
    "bank_data = bank_data.withColumn(\"job\", when(col(\"job\") == \"admin.\", \"admin\").otherwise(col(\"job\")))"
   ]
  },
  {
   "cell_type": "code",
   "execution_count": 54,
   "id": "21f8b418",
   "metadata": {},
   "outputs": [],
   "source": [
    "#Replacing \"unknown\" and \"nonexistent\" with the null values\n",
    "for column in bank_data.columns:\n",
    "    bank_data = bank_data.withColumn(column, when(col(column).isin(\"unknown\", \"nonexistent\"), None).otherwise(col(column)))"
   ]
  },
  {
   "cell_type": "code",
   "execution_count": 55,
   "id": "e5d4abf6",
   "metadata": {},
   "outputs": [
    {
     "data": {
      "text/html": [
       "<table border='1'>\n",
       "<tr><th>year</th><th>age</th><th>job</th><th>marital</th><th>education</th><th>default</th><th>housing</th><th>loan</th><th>contact</th><th>month</th><th>duration</th><th>campaign</th><th>pdays</th><th>previous</th><th>poutcome</th><th>y</th><th>emp_var_rate</th><th>cons_price_idx</th><th>cons_conf_idx</th><th>euribor_3m</th><th>nr_employed</th><th>__index_level_0__</th></tr>\n",
       "<tr><td>2008</td><td>58</td><td>management</td><td>married</td><td>tertiary</td><td>no</td><td>yes</td><td>no</td><td>null</td><td>may</td><td>261</td><td>1</td><td>-1</td><td>0</td><td>null</td><td>no</td><td>1.1</td><td>93.994</td><td>-36.4</td><td>4.85</td><td>5191.0</td><td>0</td></tr>\n",
       "<tr><td>2008</td><td>44</td><td>technician</td><td>single</td><td>secondary</td><td>no</td><td>yes</td><td>no</td><td>null</td><td>may</td><td>151</td><td>1</td><td>-1</td><td>0</td><td>null</td><td>no</td><td>1.1</td><td>93.994</td><td>-36.4</td><td>4.85</td><td>5191.0</td><td>1</td></tr>\n",
       "<tr><td>2008</td><td>33</td><td>entrepreneur</td><td>married</td><td>secondary</td><td>no</td><td>yes</td><td>yes</td><td>null</td><td>may</td><td>76</td><td>1</td><td>-1</td><td>0</td><td>null</td><td>no</td><td>1.1</td><td>93.994</td><td>-36.4</td><td>4.85</td><td>5191.0</td><td>2</td></tr>\n",
       "<tr><td>2008</td><td>47</td><td>blue-collar</td><td>married</td><td>null</td><td>no</td><td>yes</td><td>no</td><td>null</td><td>may</td><td>92</td><td>1</td><td>-1</td><td>0</td><td>null</td><td>no</td><td>1.1</td><td>93.994</td><td>-36.4</td><td>4.85</td><td>5191.0</td><td>3</td></tr>\n",
       "<tr><td>2008</td><td>33</td><td>null</td><td>single</td><td>null</td><td>no</td><td>no</td><td>no</td><td>null</td><td>may</td><td>198</td><td>1</td><td>-1</td><td>0</td><td>null</td><td>no</td><td>1.1</td><td>93.994</td><td>-36.4</td><td>4.85</td><td>5191.0</td><td>4</td></tr>\n",
       "</table>\n"
      ],
      "text/plain": [
       "+----+---+------------+-------+---------+-------+-------+----+-------+-----+--------+--------+-----+--------+--------+---+------------+--------------+-------------+----------+-----------+-----------------+\n",
       "|year|age|         job|marital|education|default|housing|loan|contact|month|duration|campaign|pdays|previous|poutcome|  y|emp_var_rate|cons_price_idx|cons_conf_idx|euribor_3m|nr_employed|__index_level_0__|\n",
       "+----+---+------------+-------+---------+-------+-------+----+-------+-----+--------+--------+-----+--------+--------+---+------------+--------------+-------------+----------+-----------+-----------------+\n",
       "|2008| 58|  management|married| tertiary|     no|    yes|  no|   null|  may|     261|       1|   -1|       0|    null| no|         1.1|        93.994|        -36.4|      4.85|     5191.0|                0|\n",
       "|2008| 44|  technician| single|secondary|     no|    yes|  no|   null|  may|     151|       1|   -1|       0|    null| no|         1.1|        93.994|        -36.4|      4.85|     5191.0|                1|\n",
       "|2008| 33|entrepreneur|married|secondary|     no|    yes| yes|   null|  may|      76|       1|   -1|       0|    null| no|         1.1|        93.994|        -36.4|      4.85|     5191.0|                2|\n",
       "|2008| 47| blue-collar|married|     null|     no|    yes|  no|   null|  may|      92|       1|   -1|       0|    null| no|         1.1|        93.994|        -36.4|      4.85|     5191.0|                3|\n",
       "|2008| 33|        null| single|     null|     no|     no|  no|   null|  may|     198|       1|   -1|       0|    null| no|         1.1|        93.994|        -36.4|      4.85|     5191.0|                4|\n",
       "+----+---+------------+-------+---------+-------+-------+----+-------+-----+--------+--------+-----+--------+--------+---+------------+--------------+-------------+----------+-----------+-----------------+"
      ]
     },
     "metadata": {},
     "output_type": "display_data"
    }
   ],
   "source": [
    "display(bank_data.limit(5))"
   ]
  },
  {
   "cell_type": "markdown",
   "id": "fc2594f1",
   "metadata": {},
   "source": [
    "### Checking for null values"
   ]
  },
  {
   "cell_type": "code",
   "execution_count": 56,
   "id": "aaa5a30b",
   "metadata": {},
   "outputs": [
    {
     "name": "stdout",
     "output_type": "stream",
     "text": [
      "+---+-------+---------+-------+-------+----+-------+-----+----+---+\n",
      "|job|marital|education|default|housing|loan|contact|month|year|  y|\n",
      "+---+-------+---------+-------+-------+----+-------+-----+----+---+\n",
      "|618|     80|     3588|   8597|    990| 990|  13020|    0|   0|  0|\n",
      "+---+-------+---------+-------+-------+----+-------+-----+----+---+\n",
      "\n"
     ]
    }
   ],
   "source": [
    "# Cheacks the null values for categorical values\n",
    "bank_data.agg(*[count(when(col(c).isNull(), c)).alias(c) for c in categories.columns]).show()"
   ]
  },
  {
   "cell_type": "code",
   "execution_count": 57,
   "id": "15dc7689",
   "metadata": {},
   "outputs": [
    {
     "name": "stdout",
     "output_type": "stream",
     "text": [
      "+---+--------+--------+-----+--------+------------+--------------+-------------+----------+-----------+\n",
      "|age|duration|campaign|pdays|previous|emp_var_rate|cons_price_idx|cons_conf_idx|euribor_3m|nr_employed|\n",
      "+---+--------+--------+-----+--------+------------+--------------+-------------+----------+-----------+\n",
      "|  0|       0|       0|    0|       0|           0|          4052|         4052|      4052|          0|\n",
      "+---+--------+--------+-----+--------+------------+--------------+-------------+----------+-----------+\n",
      "\n"
     ]
    }
   ],
   "source": [
    "# Cheacks the null values for continuous values\n",
    "bank_data.agg(*[count(when(col(c).isNull(), c)).alias(c) for c in continuous.columns]).show()"
   ]
  },
  {
   "cell_type": "markdown",
   "id": "0c373676",
   "metadata": {},
   "source": [
    "### Replacing continue variables"
   ]
  },
  {
   "cell_type": "code",
   "execution_count": 58,
   "id": "809bfbce",
   "metadata": {},
   "outputs": [],
   "source": [
    "from pyspark.sql.functions import mean\n",
    "\n",
    "# calculate the mean of non-null values in columns\n",
    "mean_dict = bank_data.select(*(mean(c).alias(c) for c in cont_col)).first().asDict()\n",
    "\n",
    "# replace null values with the mean\n",
    "bank_data = bank_data.fillna(mean_dict)"
   ]
  },
  {
   "cell_type": "code",
   "execution_count": 59,
   "id": "1e0a4afc",
   "metadata": {},
   "outputs": [
    {
     "name": "stdout",
     "output_type": "stream",
     "text": [
      "+---+--------+--------+-----+--------+------------+--------------+-------------+----------+-----------+\n",
      "|age|duration|campaign|pdays|previous|emp_var_rate|cons_price_idx|cons_conf_idx|euribor_3m|nr_employed|\n",
      "+---+--------+--------+-----+--------+------------+--------------+-------------+----------+-----------+\n",
      "|  0|       0|       0|    0|       0|           0|             0|            0|         0|          0|\n",
      "+---+--------+--------+-----+--------+------------+--------------+-------------+----------+-----------+\n",
      "\n"
     ]
    }
   ],
   "source": [
    "#cheaking for null values\n",
    "bank_data.agg(*[count(when(col(c).isNull(), c)).alias(c) for c in continuous.columns]).show()"
   ]
  },
  {
   "cell_type": "markdown",
   "id": "89d6f733",
   "metadata": {},
   "source": [
    "### Replacing categorical variables"
   ]
  },
  {
   "cell_type": "code",
   "execution_count": 60,
   "id": "380bd5b8",
   "metadata": {},
   "outputs": [],
   "source": [
    "bank_data = bank_data.drop(\"poutcome\")"
   ]
  },
  {
   "cell_type": "code",
   "execution_count": 61,
   "id": "772755e2",
   "metadata": {},
   "outputs": [],
   "source": [
    "# calculate the mode of non-null values and replaced in columns\n",
    "from pyspark.sql.functions import desc\n",
    "for column in cat_col:\n",
    "    mode = bank_data.groupBy(column).agg(count(\"*\").alias(\"count\")).orderBy(desc(\"count\")).select(column).first()[0]\n",
    "    bank_data = bank_data.fillna({column: mode})"
   ]
  },
  {
   "cell_type": "code",
   "execution_count": 62,
   "id": "df7192b6",
   "metadata": {},
   "outputs": [
    {
     "name": "stdout",
     "output_type": "stream",
     "text": [
      "+---+-------+---------+-------+-------+----+-------+-----+----+---+\n",
      "|job|marital|education|default|housing|loan|contact|month|year|  y|\n",
      "+---+-------+---------+-------+-------+----+-------+-----+----+---+\n",
      "|  0|      0|        0|      0|      0|   0|      0|    0|   0|  0|\n",
      "+---+-------+---------+-------+-------+----+-------+-----+----+---+\n",
      "\n"
     ]
    }
   ],
   "source": [
    "#cheaking for null values\n",
    "bank_data.agg(*[count(when(col(c).isNull(), c)).alias(c) for c in categories.columns]).show()"
   ]
  },
  {
   "cell_type": "code",
   "execution_count": 63,
   "id": "e9af1cee",
   "metadata": {},
   "outputs": [],
   "source": [
    "pdf=bank_data.toPandas()"
   ]
  },
  {
   "cell_type": "markdown",
   "id": "0b3423c0",
   "metadata": {},
   "source": [
    "### Heatmap"
   ]
  },
  {
   "cell_type": "code",
   "execution_count": 64,
   "id": "a1ff1920",
   "metadata": {},
   "outputs": [
    {
     "data": {
      "text/plain": [
       "<AxesSubplot:>"
      ]
     },
     "execution_count": 64,
     "metadata": {},
     "output_type": "execute_result"
    },
    {
     "data": {
      "image/png": "[encoded data removed]",
      "text/plain": [
       "<Figure size 720x720 with 2 Axes>"
      ]
     },
     "metadata": {
      "needs_background": "light"
     },
     "output_type": "display_data"
    }
   ],
   "source": [
    "correlation = pdf.corr()\n",
    "plt.figure(figsize=(10,10))\n",
    "sns.heatmap(correlation)"
   ]
  },
  {
   "cell_type": "code",
   "execution_count": 65,
   "id": "49b4f9a0",
   "metadata": {},
   "outputs": [
    {
     "data": {
      "image/png": "[encoded data removed]",
      "text/plain": [
       "<Figure size 720x720 with 4 Axes>"
      ]
     },
     "metadata": {
      "needs_background": "light"
     },
     "output_type": "display_data"
    }
   ],
   "source": [
    "# function to plot the normal distribution\n",
    "def plot_dist():\n",
    "    plt.figure(figsize=(10,10))\n",
    "    plt.subplot(3,2,1)\n",
    "    plt.hist(pdf[\"age\"], bins = 40)\n",
    "    plt.title('age')\n",
    "\n",
    "    plt.subplot(3,2,2)\n",
    "    plt.hist(pdf[\"duration\"], bins = 40)\n",
    "    plt.title('duration')\n",
    "\n",
    "    plt.subplot(3,2,3)\n",
    "    plt.hist(pdf[\"campaign\"], bins = 40)\n",
    "    plt.title('campaign')\n",
    "    \n",
    "    plt.subplot(3,2,4)\n",
    "    plt.hist(pdf[\"pdays\"], bins = 40)\n",
    "    plt.title('pdays')\n",
    "         \n",
    "plot_dist()"
   ]
  },
  {
   "cell_type": "markdown",
   "id": "8d76a8d3",
   "metadata": {},
   "source": [
    "## ordinal data encoding"
   ]
  },
  {
   "cell_type": "code",
   "execution_count": 66,
   "id": "48aa89ac",
   "metadata": {},
   "outputs": [],
   "source": [
    "# Creating a dictionary for converting categorical textual data entries\n",
    "# conversion into categorical numeric values on basis on job profile\n",
    "job_dict = {\"entrepreneur\":11, \"self-employed\":10, \"admin\":9, \"management\":8, \"services\":7, \n",
    "       \"technician\":6, \"blue-collar\":5, \"housemaid\":4, \"retired\":3, \"student\":2, \"unemployed\":1}\n",
    "\n",
    "for key, value in job_dict.items():\n",
    "    bank_data = bank_data.withColumn(\"job\", when(bank_data[\"job\"] == key, int(value)).otherwise(bank_data[\"job\"]))"
   ]
  },
  {
   "cell_type": "code",
   "execution_count": 67,
   "id": "789f1a8f",
   "metadata": {},
   "outputs": [],
   "source": [
    "# conversion into categorical numeric values on basis on marital status\n",
    "marital_dict = {\"married\":3, \"single\":2, \"divorced\":1}\n",
    "\n",
    "for key, value in marital_dict.items():\n",
    "    bank_data = bank_data.withColumn(\"marital\", when(bank_data[\"marital\"] == key, value).otherwise(bank_data[\"marital\"]))"
   ]
  },
  {
   "cell_type": "code",
   "execution_count": 68,
   "id": "5ece43c9",
   "metadata": {},
   "outputs": [],
   "source": [
    "# conversion into categorical numeric values on basis on education\n",
    "edu_dict = {\"professional_course\":10, \"university_degree\":9, \"tertiary\":8, \"secondary\":7, \n",
    "       \"high_school\":6, \"basic_9y\":5, \"basic_6y\":4, \"primary\":3, \"basic_4y\":2, \"illiterate\":1}\n",
    "\n",
    "for key, value in edu_dict.items():\n",
    "    bank_data = bank_data.withColumn(\"education\", when(bank_data[\"education\"] == key, value).otherwise(bank_data[\"education\"]))"
   ]
  },
  {
   "cell_type": "code",
   "execution_count": 69,
   "id": "532d32ab",
   "metadata": {},
   "outputs": [],
   "source": [
    "y_dict = {\"yes\":1, \"no\":0}\n",
    "\n",
    "for key, value in y_dict.items():\n",
    "    bank_data = bank_data.withColumn(\"y\", when(bank_data[\"y\"] == key, value).otherwise(bank_data[\"y\"]))"
   ]
  },
  {
   "cell_type": "code",
   "execution_count": 70,
   "id": "7fb0ead7",
   "metadata": {},
   "outputs": [
    {
     "data": {
      "text/html": [
       "<table border='1'>\n",
       "<tr><th>year</th><th>age</th><th>job</th><th>marital</th><th>education</th><th>default</th><th>housing</th><th>loan</th><th>contact</th><th>month</th><th>duration</th><th>campaign</th><th>pdays</th><th>previous</th><th>y</th><th>emp_var_rate</th><th>cons_price_idx</th><th>cons_conf_idx</th><th>euribor_3m</th><th>nr_employed</th><th>__index_level_0__</th></tr>\n",
       "<tr><td>2008</td><td>58</td><td>8</td><td>3</td><td>8</td><td>no</td><td>yes</td><td>no</td><td>cellular</td><td>may</td><td>261</td><td>1</td><td>-1</td><td>0</td><td>0</td><td>1.1</td><td>93.994</td><td>-36.4</td><td>4.85</td><td>5191.0</td><td>0</td></tr>\n",
       "<tr><td>2008</td><td>44</td><td>6</td><td>2</td><td>7</td><td>no</td><td>yes</td><td>no</td><td>cellular</td><td>may</td><td>151</td><td>1</td><td>-1</td><td>0</td><td>0</td><td>1.1</td><td>93.994</td><td>-36.4</td><td>4.85</td><td>5191.0</td><td>1</td></tr>\n",
       "<tr><td>2008</td><td>33</td><td>11</td><td>3</td><td>7</td><td>no</td><td>yes</td><td>yes</td><td>cellular</td><td>may</td><td>76</td><td>1</td><td>-1</td><td>0</td><td>0</td><td>1.1</td><td>93.994</td><td>-36.4</td><td>4.85</td><td>5191.0</td><td>2</td></tr>\n",
       "<tr><td>2008</td><td>47</td><td>5</td><td>3</td><td>7</td><td>no</td><td>yes</td><td>no</td><td>cellular</td><td>may</td><td>92</td><td>1</td><td>-1</td><td>0</td><td>0</td><td>1.1</td><td>93.994</td><td>-36.4</td><td>4.85</td><td>5191.0</td><td>3</td></tr>\n",
       "<tr><td>2008</td><td>33</td><td>5</td><td>2</td><td>7</td><td>no</td><td>no</td><td>no</td><td>cellular</td><td>may</td><td>198</td><td>1</td><td>-1</td><td>0</td><td>0</td><td>1.1</td><td>93.994</td><td>-36.4</td><td>4.85</td><td>5191.0</td><td>4</td></tr>\n",
       "</table>\n"
      ],
      "text/plain": [
       "+----+---+---+-------+---------+-------+-------+----+--------+-----+--------+--------+-----+--------+---+------------+--------------+-------------+----------+-----------+-----------------+\n",
       "|year|age|job|marital|education|default|housing|loan| contact|month|duration|campaign|pdays|previous|  y|emp_var_rate|cons_price_idx|cons_conf_idx|euribor_3m|nr_employed|__index_level_0__|\n",
       "+----+---+---+-------+---------+-------+-------+----+--------+-----+--------+--------+-----+--------+---+------------+--------------+-------------+----------+-----------+-----------------+\n",
       "|2008| 58|  8|      3|        8|     no|    yes|  no|cellular|  may|     261|       1|   -1|       0|  0|         1.1|        93.994|        -36.4|      4.85|     5191.0|                0|\n",
       "|2008| 44|  6|      2|        7|     no|    yes|  no|cellular|  may|     151|       1|   -1|       0|  0|         1.1|        93.994|        -36.4|      4.85|     5191.0|                1|\n",
       "|2008| 33| 11|      3|        7|     no|    yes| yes|cellular|  may|      76|       1|   -1|       0|  0|         1.1|        93.994|        -36.4|      4.85|     5191.0|                2|\n",
       "|2008| 47|  5|      3|        7|     no|    yes|  no|cellular|  may|      92|       1|   -1|       0|  0|         1.1|        93.994|        -36.4|      4.85|     5191.0|                3|\n",
       "|2008| 33|  5|      2|        7|     no|     no|  no|cellular|  may|     198|       1|   -1|       0|  0|         1.1|        93.994|        -36.4|      4.85|     5191.0|                4|\n",
       "+----+---+---+-------+---------+-------+-------+----+--------+-----+--------+--------+-----+--------+---+------------+--------------+-------------+----------+-----------+-----------------+"
      ]
     },
     "metadata": {},
     "output_type": "display_data"
    }
   ],
   "source": [
    "display(bank_data.limit(5))"
   ]
  },
  {
   "cell_type": "code",
   "execution_count": 71,
   "id": "dd910b4b",
   "metadata": {},
   "outputs": [],
   "source": [
    "#Conversion of months into the quarters\n",
    "quarter_dict = {\"jan\":\"Q1\", \"feb\":\"Q1\", \"mar\":\"Q1\", \"apr\":\"Q2\", \"may\":\"Q2\", \"jun\":\"Q2\", \n",
    "                \"jul\":\"Q3\", \"aug\":\"Q3\", \"sep\":\"Q3\", \"oct\":\"Q4\", \"nov\":\"Q4\", \"dec\":\"Q4\"}\n",
    "\n",
    "for key, value in quarter_dict.items():\n",
    "    bank_data = bank_data.withColumn(\"month\", when(bank_data[\"month\"] == key, value).otherwise(bank_data[\"month\"]))"
   ]
  },
  {
   "cell_type": "code",
   "execution_count": 72,
   "id": "646678d5",
   "metadata": {},
   "outputs": [
    {
     "name": "stdout",
     "output_type": "stream",
     "text": [
      "root\n",
      " |-- year: long (nullable = false)\n",
      " |-- age: integer (nullable = true)\n",
      " |-- job: string (nullable = false)\n",
      " |-- marital: string (nullable = false)\n",
      " |-- education: string (nullable = false)\n",
      " |-- default: string (nullable = false)\n",
      " |-- housing: string (nullable = false)\n",
      " |-- loan: string (nullable = false)\n",
      " |-- contact: string (nullable = false)\n",
      " |-- month: string (nullable = false)\n",
      " |-- duration: integer (nullable = true)\n",
      " |-- campaign: integer (nullable = true)\n",
      " |-- pdays: integer (nullable = true)\n",
      " |-- previous: integer (nullable = true)\n",
      " |-- y: string (nullable = false)\n",
      " |-- emp_var_rate: double (nullable = false)\n",
      " |-- cons_price_idx: double (nullable = false)\n",
      " |-- cons_conf_idx: double (nullable = false)\n",
      " |-- euribor_3m: double (nullable = false)\n",
      " |-- nr_employed: double (nullable = false)\n",
      " |-- __index_level_0__: long (nullable = true)\n",
      "\n"
     ]
    }
   ],
   "source": [
    "bank_data.printSchema()"
   ]
  },
  {
   "cell_type": "code",
   "execution_count": 73,
   "id": "267a14bd",
   "metadata": {},
   "outputs": [],
   "source": [
    "bank = bank_data"
   ]
  },
  {
   "cell_type": "markdown",
   "id": "0fdc8610",
   "metadata": {},
   "source": [
    "### one hot encoding"
   ]
  },
  {
   "cell_type": "code",
   "execution_count": 74,
   "id": "53283a0c",
   "metadata": {},
   "outputs": [],
   "source": [
    "#One hot encoding on the nominal data\n",
    "one_hot_cols = [\"default\", \"housing\", \"loan\"]\n",
    "\n",
    "for i in one_hot_cols:\n",
    "    bank = bank.withColumn(i, when(col(i) == \"yes\", 1).\n",
    "                              when(col(i) == \"no\", 0).\n",
    "                              otherwise(col(i)))\n",
    "    \n",
    "bank = bank.withColumn(\"contact\", when(col(\"contact\") == \"telephone\", 1)\n",
    "                                  .when(col(\"contact\") == \"cellular\", 0)\n",
    "                                  .otherwise(col(\"contact\")))"
   ]
  },
  {
   "cell_type": "code",
   "execution_count": 75,
   "id": "5dfd7b5a",
   "metadata": {},
   "outputs": [],
   "source": [
    "from pyspark.ml.feature import StringIndexer\n",
    "indexer = StringIndexer(inputCol='month', outputCol='class_numeric')\n",
    "indexer_fitted = indexer.fit(bank)\n",
    "df_indexed = indexer_fitted.transform(bank)\n",
    "\n",
    "from pyspark.ml.feature import OneHotEncoder\n",
    "encoder = OneHotEncoder(inputCols=['class_numeric'], outputCols=['class_onehot'])\n",
    "df_onehot = encoder.fit(df_indexed).transform(df_indexed)\n",
    "\n",
    "from pyspark.ml.functions import vector_to_array\n",
    "df_col_onehot = df_onehot.select('*', vector_to_array('class_onehot').alias('Quarter'))\n",
    "\n",
    "import pyspark.sql.functions as F\n",
    "num_categories = len(df_col_onehot.first()['Quarter'])\n",
    "cols_expanded = [(F.col('Quarter')[i].alias(f'{indexer_fitted.labels[i]}')) for i in range(num_categories)]\n",
    "bank_df = df_col_onehot.select(\"year\",\"age\",\"job\",\"marital\",\"education\",\"default\",\"housing\",\"loan\",\"contact\",\n",
    "                                      \"month\",\"duration\",\"campaign\",\"pdays\",\"previous\",\"emp_var_rate\",\"cons_price_idx\",\n",
    "                                      \"cons_conf_idx\",\"euribor_3m\",\"nr_employed\",\"y\",*cols_expanded)\n"
   ]
  },
  {
   "cell_type": "code",
   "execution_count": 76,
   "id": "4160fd88",
   "metadata": {
    "scrolled": true
   },
   "outputs": [
    {
     "data": {
      "text/html": [
       "<table border='1'>\n",
       "<tr><th>year</th><th>age</th><th>job</th><th>marital</th><th>education</th><th>default</th><th>housing</th><th>loan</th><th>contact</th><th>month</th><th>duration</th><th>campaign</th><th>pdays</th><th>previous</th><th>emp_var_rate</th><th>cons_price_idx</th><th>cons_conf_idx</th><th>euribor_3m</th><th>nr_employed</th><th>y</th><th>Q2</th><th>Q3</th><th>Q4</th></tr>\n",
       "<tr><td>2008</td><td>58</td><td>8</td><td>3</td><td>8</td><td>0</td><td>1</td><td>0</td><td>0</td><td>Q2</td><td>261</td><td>1</td><td>-1</td><td>0</td><td>1.1</td><td>93.994</td><td>-36.4</td><td>4.85</td><td>5191.0</td><td>0</td><td>1.0</td><td>0.0</td><td>0.0</td></tr>\n",
       "<tr><td>2008</td><td>44</td><td>6</td><td>2</td><td>7</td><td>0</td><td>1</td><td>0</td><td>0</td><td>Q2</td><td>151</td><td>1</td><td>-1</td><td>0</td><td>1.1</td><td>93.994</td><td>-36.4</td><td>4.85</td><td>5191.0</td><td>0</td><td>1.0</td><td>0.0</td><td>0.0</td></tr>\n",
       "<tr><td>2008</td><td>33</td><td>11</td><td>3</td><td>7</td><td>0</td><td>1</td><td>1</td><td>0</td><td>Q2</td><td>76</td><td>1</td><td>-1</td><td>0</td><td>1.1</td><td>93.994</td><td>-36.4</td><td>4.85</td><td>5191.0</td><td>0</td><td>1.0</td><td>0.0</td><td>0.0</td></tr>\n",
       "<tr><td>2008</td><td>47</td><td>5</td><td>3</td><td>7</td><td>0</td><td>1</td><td>0</td><td>0</td><td>Q2</td><td>92</td><td>1</td><td>-1</td><td>0</td><td>1.1</td><td>93.994</td><td>-36.4</td><td>4.85</td><td>5191.0</td><td>0</td><td>1.0</td><td>0.0</td><td>0.0</td></tr>\n",
       "<tr><td>2008</td><td>33</td><td>5</td><td>2</td><td>7</td><td>0</td><td>0</td><td>0</td><td>0</td><td>Q2</td><td>198</td><td>1</td><td>-1</td><td>0</td><td>1.1</td><td>93.994</td><td>-36.4</td><td>4.85</td><td>5191.0</td><td>0</td><td>1.0</td><td>0.0</td><td>0.0</td></tr>\n",
       "</table>\n"
      ],
      "text/plain": [
       "+----+---+---+-------+---------+-------+-------+----+-------+-----+--------+--------+-----+--------+------------+--------------+-------------+----------+-----------+---+---+---+---+\n",
       "|year|age|job|marital|education|default|housing|loan|contact|month|duration|campaign|pdays|previous|emp_var_rate|cons_price_idx|cons_conf_idx|euribor_3m|nr_employed|  y| Q2| Q3| Q4|\n",
       "+----+---+---+-------+---------+-------+-------+----+-------+-----+--------+--------+-----+--------+------------+--------------+-------------+----------+-----------+---+---+---+---+\n",
       "|2008| 58|  8|      3|        8|      0|      1|   0|      0|   Q2|     261|       1|   -1|       0|         1.1|        93.994|        -36.4|      4.85|     5191.0|  0|1.0|0.0|0.0|\n",
       "|2008| 44|  6|      2|        7|      0|      1|   0|      0|   Q2|     151|       1|   -1|       0|         1.1|        93.994|        -36.4|      4.85|     5191.0|  0|1.0|0.0|0.0|\n",
       "|2008| 33| 11|      3|        7|      0|      1|   1|      0|   Q2|      76|       1|   -1|       0|         1.1|        93.994|        -36.4|      4.85|     5191.0|  0|1.0|0.0|0.0|\n",
       "|2008| 47|  5|      3|        7|      0|      1|   0|      0|   Q2|      92|       1|   -1|       0|         1.1|        93.994|        -36.4|      4.85|     5191.0|  0|1.0|0.0|0.0|\n",
       "|2008| 33|  5|      2|        7|      0|      0|   0|      0|   Q2|     198|       1|   -1|       0|         1.1|        93.994|        -36.4|      4.85|     5191.0|  0|1.0|0.0|0.0|\n",
       "+----+---+---+-------+---------+-------+-------+----+-------+-----+--------+--------+-----+--------+------------+--------------+-------------+----------+-----------+---+---+---+---+"
      ]
     },
     "metadata": {},
     "output_type": "display_data"
    }
   ],
   "source": [
    "display(bank_df.limit(5))"
   ]
  },
  {
   "cell_type": "code",
   "execution_count": 77,
   "id": "2da27886",
   "metadata": {},
   "outputs": [
    {
     "name": "stdout",
     "output_type": "stream",
     "text": [
      "root\n",
      " |-- year: long (nullable = false)\n",
      " |-- age: integer (nullable = true)\n",
      " |-- job: string (nullable = false)\n",
      " |-- marital: string (nullable = false)\n",
      " |-- education: string (nullable = false)\n",
      " |-- default: string (nullable = false)\n",
      " |-- housing: string (nullable = false)\n",
      " |-- loan: string (nullable = false)\n",
      " |-- contact: string (nullable = false)\n",
      " |-- month: string (nullable = false)\n",
      " |-- duration: integer (nullable = true)\n",
      " |-- campaign: integer (nullable = true)\n",
      " |-- pdays: integer (nullable = true)\n",
      " |-- previous: integer (nullable = true)\n",
      " |-- emp_var_rate: double (nullable = false)\n",
      " |-- cons_price_idx: double (nullable = false)\n",
      " |-- cons_conf_idx: double (nullable = false)\n",
      " |-- euribor_3m: double (nullable = false)\n",
      " |-- nr_employed: double (nullable = false)\n",
      " |-- y: string (nullable = false)\n",
      " |-- Q2: double (nullable = true)\n",
      " |-- Q3: double (nullable = true)\n",
      " |-- Q4: double (nullable = true)\n",
      "\n"
     ]
    }
   ],
   "source": [
    "bank_df.printSchema()"
   ]
  },
  {
   "cell_type": "code",
   "execution_count": 78,
   "id": "82617b81",
   "metadata": {},
   "outputs": [],
   "source": [
    "#bank_df.agg(*[count(when(col(c).isNull(), c)).alias(c) for c in bank_df.columns]).show()"
   ]
  },
  {
   "cell_type": "code",
   "execution_count": 79,
   "id": "2c0df333",
   "metadata": {},
   "outputs": [],
   "source": [
    "bank_data = bank_df"
   ]
  },
  {
   "cell_type": "code",
   "execution_count": 80,
   "id": "67041655",
   "metadata": {},
   "outputs": [],
   "source": [
    "bank_data = bank_data.drop(\"month\")"
   ]
  },
  {
   "cell_type": "markdown",
   "id": "29b645f8",
   "metadata": {},
   "source": [
    "### Converting string datatype to double"
   ]
  },
  {
   "cell_type": "code",
   "execution_count": 81,
   "id": "d384550d",
   "metadata": {},
   "outputs": [
    {
     "name": "stdout",
     "output_type": "stream",
     "text": [
      "['job', 'marital', 'education', 'default', 'housing', 'loan', 'contact', 'y']\n"
     ]
    }
   ],
   "source": [
    "column_types = bank_data.dtypes\n",
    "# Filter the list to only include the string datatype columns\n",
    "\n",
    "string_columns = [column[0] for column in column_types if column[1] == \"string\"]\n",
    "print(string_columns)"
   ]
  },
  {
   "cell_type": "code",
   "execution_count": 82,
   "id": "95313136",
   "metadata": {},
   "outputs": [],
   "source": [
    "for cols in string_columns:\n",
    "# Change the datatype of the columns to double\n",
    "    bank_data = bank_data.withColumn(cols, bank_data[cols].cast(\"double\"))"
   ]
  },
  {
   "cell_type": "code",
   "execution_count": 83,
   "id": "5d592827",
   "metadata": {},
   "outputs": [
    {
     "data": {
      "text/html": [
       "<table border='1'>\n",
       "<tr><th>year</th><th>age</th><th>job</th><th>marital</th><th>education</th><th>default</th><th>housing</th><th>loan</th><th>contact</th><th>duration</th><th>campaign</th><th>pdays</th><th>previous</th><th>emp_var_rate</th><th>cons_price_idx</th><th>cons_conf_idx</th><th>euribor_3m</th><th>nr_employed</th><th>y</th><th>Q2</th><th>Q3</th><th>Q4</th></tr>\n",
       "<tr><td>2008</td><td>58</td><td>8.0</td><td>3.0</td><td>8.0</td><td>0.0</td><td>1.0</td><td>0.0</td><td>0.0</td><td>261</td><td>1</td><td>-1</td><td>0</td><td>1.1</td><td>93.994</td><td>-36.4</td><td>4.85</td><td>5191.0</td><td>0.0</td><td>1.0</td><td>0.0</td><td>0.0</td></tr>\n",
       "<tr><td>2008</td><td>44</td><td>6.0</td><td>2.0</td><td>7.0</td><td>0.0</td><td>1.0</td><td>0.0</td><td>0.0</td><td>151</td><td>1</td><td>-1</td><td>0</td><td>1.1</td><td>93.994</td><td>-36.4</td><td>4.85</td><td>5191.0</td><td>0.0</td><td>1.0</td><td>0.0</td><td>0.0</td></tr>\n",
       "<tr><td>2008</td><td>33</td><td>11.0</td><td>3.0</td><td>7.0</td><td>0.0</td><td>1.0</td><td>1.0</td><td>0.0</td><td>76</td><td>1</td><td>-1</td><td>0</td><td>1.1</td><td>93.994</td><td>-36.4</td><td>4.85</td><td>5191.0</td><td>0.0</td><td>1.0</td><td>0.0</td><td>0.0</td></tr>\n",
       "<tr><td>2008</td><td>47</td><td>5.0</td><td>3.0</td><td>7.0</td><td>0.0</td><td>1.0</td><td>0.0</td><td>0.0</td><td>92</td><td>1</td><td>-1</td><td>0</td><td>1.1</td><td>93.994</td><td>-36.4</td><td>4.85</td><td>5191.0</td><td>0.0</td><td>1.0</td><td>0.0</td><td>0.0</td></tr>\n",
       "<tr><td>2008</td><td>33</td><td>5.0</td><td>2.0</td><td>7.0</td><td>0.0</td><td>0.0</td><td>0.0</td><td>0.0</td><td>198</td><td>1</td><td>-1</td><td>0</td><td>1.1</td><td>93.994</td><td>-36.4</td><td>4.85</td><td>5191.0</td><td>0.0</td><td>1.0</td><td>0.0</td><td>0.0</td></tr>\n",
       "</table>\n"
      ],
      "text/plain": [
       "+----+---+----+-------+---------+-------+-------+----+-------+--------+--------+-----+--------+------------+--------------+-------------+----------+-----------+---+---+---+---+\n",
       "|year|age| job|marital|education|default|housing|loan|contact|duration|campaign|pdays|previous|emp_var_rate|cons_price_idx|cons_conf_idx|euribor_3m|nr_employed|  y| Q2| Q3| Q4|\n",
       "+----+---+----+-------+---------+-------+-------+----+-------+--------+--------+-----+--------+------------+--------------+-------------+----------+-----------+---+---+---+---+\n",
       "|2008| 58| 8.0|    3.0|      8.0|    0.0|    1.0| 0.0|    0.0|     261|       1|   -1|       0|         1.1|        93.994|        -36.4|      4.85|     5191.0|0.0|1.0|0.0|0.0|\n",
       "|2008| 44| 6.0|    2.0|      7.0|    0.0|    1.0| 0.0|    0.0|     151|       1|   -1|       0|         1.1|        93.994|        -36.4|      4.85|     5191.0|0.0|1.0|0.0|0.0|\n",
       "|2008| 33|11.0|    3.0|      7.0|    0.0|    1.0| 1.0|    0.0|      76|       1|   -1|       0|         1.1|        93.994|        -36.4|      4.85|     5191.0|0.0|1.0|0.0|0.0|\n",
       "|2008| 47| 5.0|    3.0|      7.0|    0.0|    1.0| 0.0|    0.0|      92|       1|   -1|       0|         1.1|        93.994|        -36.4|      4.85|     5191.0|0.0|1.0|0.0|0.0|\n",
       "|2008| 33| 5.0|    2.0|      7.0|    0.0|    0.0| 0.0|    0.0|     198|       1|   -1|       0|         1.1|        93.994|        -36.4|      4.85|     5191.0|0.0|1.0|0.0|0.0|\n",
       "+----+---+----+-------+---------+-------+-------+----+-------+--------+--------+-----+--------+------------+--------------+-------------+----------+-----------+---+---+---+---+"
      ]
     },
     "metadata": {},
     "output_type": "display_data"
    }
   ],
   "source": [
    "display(bank_data.limit(5))"
   ]
  },
  {
   "cell_type": "code",
   "execution_count": 84,
   "id": "92c3e16d",
   "metadata": {},
   "outputs": [
    {
     "name": "stdout",
     "output_type": "stream",
     "text": [
      "root\n",
      " |-- year: long (nullable = false)\n",
      " |-- age: integer (nullable = true)\n",
      " |-- job: double (nullable = true)\n",
      " |-- marital: double (nullable = true)\n",
      " |-- education: double (nullable = true)\n",
      " |-- default: double (nullable = true)\n",
      " |-- housing: double (nullable = true)\n",
      " |-- loan: double (nullable = true)\n",
      " |-- contact: double (nullable = true)\n",
      " |-- duration: integer (nullable = true)\n",
      " |-- campaign: integer (nullable = true)\n",
      " |-- pdays: integer (nullable = true)\n",
      " |-- previous: integer (nullable = true)\n",
      " |-- emp_var_rate: double (nullable = false)\n",
      " |-- cons_price_idx: double (nullable = false)\n",
      " |-- cons_conf_idx: double (nullable = false)\n",
      " |-- euribor_3m: double (nullable = false)\n",
      " |-- nr_employed: double (nullable = false)\n",
      " |-- y: double (nullable = true)\n",
      " |-- Q2: double (nullable = true)\n",
      " |-- Q3: double (nullable = true)\n",
      " |-- Q4: double (nullable = true)\n",
      "\n"
     ]
    }
   ],
   "source": [
    "bank_data.printSchema()"
   ]
  },
  {
   "cell_type": "markdown",
   "id": "a634e6b1",
   "metadata": {},
   "source": [
    "### Outliers visualization and removal"
   ]
  },
  {
   "cell_type": "code",
   "execution_count": 85,
   "id": "ea070837",
   "metadata": {},
   "outputs": [],
   "source": [
    "out = bank_data.toPandas()"
   ]
  },
  {
   "cell_type": "code",
   "execution_count": 86,
   "id": "71b422e2",
   "metadata": {},
   "outputs": [],
   "source": [
    "outliers_columns = [\"age\",\"duration\",\"campaign\",\"pdays\",\"previous\"]"
   ]
  },
  {
   "cell_type": "code",
   "execution_count": 87,
   "id": "b391950e",
   "metadata": {},
   "outputs": [
    {
     "data": {
      "image/png": "[encoded data removed]",
      "text/plain": [
       "<Figure size 720x720 with 5 Axes>"
      ]
     },
     "metadata": {
      "needs_background": "light"
     },
     "output_type": "display_data"
    }
   ],
   "source": [
    "#Function defination to plot the outliers\n",
    "def plot_box():\n",
    "    plt.figure(figsize=(10,10))\n",
    "    plt.subplot(3,2,1)\n",
    "    out.boxplot(column=[\"age\"])\n",
    "\n",
    "    plt.subplot(3,2,2)\n",
    "    out.boxplot(column=[\"duration\"])\n",
    "\n",
    "    plt.subplot(3,2,3)\n",
    "    out.boxplot(column=[\"campaign\"])\n",
    "\n",
    "    plt.subplot(3,2,4)\n",
    "    out.boxplot(column=[\"pdays\"])\n",
    "\n",
    "    plt.subplot(3,2,5)\n",
    "    out.boxplot(column=[\"previous\"])\n",
    "           \n",
    "plot_box()"
   ]
  },
  {
   "cell_type": "code",
   "execution_count": 88,
   "id": "a9569e01",
   "metadata": {},
   "outputs": [
    {
     "name": "stdout",
     "output_type": "stream",
     "text": [
      "age max_limit:  72.0       min_limit:  8.0\n",
      "duration max_limit:  644.5       min_limit:  -223.5\n",
      "campaign max_limit:  6.0       min_limit:  -2.0\n",
      "pdays max_limit:  -1.0       min_limit:  -1.0\n",
      "previous max_limit:  0.0       min_limit:  0.0\n",
      "------------------------------------------\n",
      "[72.0, 644.5, 6.0, -1.0, 0.0]\n"
     ]
    }
   ],
   "source": [
    "#Removing the outliers with the help of maximum binding limit\n",
    "max_out_limit = []\n",
    "for cols in outliers_columns:\n",
    "    quantiles = bank_data.approxQuantile(cols, [0.25, 0.5, 0.75], 0.01)\n",
    "    \n",
    "    q3 = quantiles[2]\n",
    "    q1 = quantiles[0]\n",
    "    iqr = q3 - q1\n",
    "    iqr = iqr*1.5\n",
    "    max_limit = q3 + iqr\n",
    "    min_limit = q1 - iqr\n",
    "    max_out_limit.append(max_limit)\n",
    "    \n",
    "    print(cols, \"max_limit: \",max_limit,\"      min_limit: \",min_limit)\n",
    "else:\n",
    "    print(\"------------------------------------------\")\n",
    "    print(max_out_limit)\n",
    "\n"
   ]
  },
  {
   "cell_type": "code",
   "execution_count": 89,
   "id": "6ae7f545",
   "metadata": {},
   "outputs": [],
   "source": [
    "for i, j in zip(outliers_columns, max_out_limit):\n",
    "    bank_data = bank_data.withColumn(i, \n",
    "                    when((col(i) >= j), j).otherwise(col(i))) "
   ]
  },
  {
   "cell_type": "code",
   "execution_count": 90,
   "id": "838141e7",
   "metadata": {},
   "outputs": [],
   "source": [
    "out = bank_data.toPandas()"
   ]
  },
  {
   "cell_type": "code",
   "execution_count": 91,
   "id": "9c949e1b",
   "metadata": {},
   "outputs": [
    {
     "data": {
      "image/png": "[encoded data removed]",
      "text/plain": [
       "<Figure size 720x720 with 5 Axes>"
      ]
     },
     "metadata": {
      "needs_background": "light"
     },
     "output_type": "display_data"
    }
   ],
   "source": [
    "plot_box()"
   ]
  },
  {
   "cell_type": "code",
   "execution_count": 92,
   "id": "eeb9e074",
   "metadata": {},
   "outputs": [
    {
     "name": "stdout",
     "output_type": "stream",
     "text": [
      "root\n",
      " |-- year: long (nullable = false)\n",
      " |-- age: double (nullable = true)\n",
      " |-- job: double (nullable = true)\n",
      " |-- marital: double (nullable = true)\n",
      " |-- education: double (nullable = true)\n",
      " |-- default: double (nullable = true)\n",
      " |-- housing: double (nullable = true)\n",
      " |-- loan: double (nullable = true)\n",
      " |-- contact: double (nullable = true)\n",
      " |-- duration: double (nullable = true)\n",
      " |-- campaign: double (nullable = true)\n",
      " |-- pdays: double (nullable = true)\n",
      " |-- previous: double (nullable = true)\n",
      " |-- emp_var_rate: double (nullable = false)\n",
      " |-- cons_price_idx: double (nullable = false)\n",
      " |-- cons_conf_idx: double (nullable = false)\n",
      " |-- euribor_3m: double (nullable = false)\n",
      " |-- nr_employed: double (nullable = false)\n",
      " |-- y: double (nullable = true)\n",
      " |-- Q2: double (nullable = true)\n",
      " |-- Q3: double (nullable = true)\n",
      " |-- Q4: double (nullable = true)\n",
      "\n"
     ]
    }
   ],
   "source": [
    "bank_data.printSchema()"
   ]
  },
  {
   "cell_type": "markdown",
   "id": "3f6b46ca",
   "metadata": {},
   "source": [
    "## pyspark mdel Building"
   ]
  },
  {
   "cell_type": "code",
   "execution_count": 93,
   "id": "8a61a158",
   "metadata": {},
   "outputs": [],
   "source": [
    "bank = bank_data"
   ]
  },
  {
   "cell_type": "code",
   "execution_count": 94,
   "id": "91cf9a5d",
   "metadata": {},
   "outputs": [],
   "source": [
    "#bank_data.agg(*[count(when(col(c).isNull(), c)).alias(c) for c in bank_data.columns]).show()\n",
    "#bank_data = bank_data.drop(\"nr_employed\")"
   ]
  },
  {
   "cell_type": "code",
   "execution_count": 95,
   "id": "038b8abb",
   "metadata": {},
   "outputs": [
    {
     "data": {
      "text/html": [
       "<table border='1'>\n",
       "<tr><th>year</th><th>age</th><th>job</th><th>marital</th><th>education</th><th>default</th><th>housing</th><th>loan</th><th>contact</th><th>duration</th><th>campaign</th><th>pdays</th><th>previous</th><th>emp_var_rate</th><th>cons_price_idx</th><th>cons_conf_idx</th><th>euribor_3m</th><th>nr_employed</th><th>y</th><th>Q2</th><th>Q3</th><th>Q4</th></tr>\n",
       "<tr><td>2008</td><td>58.0</td><td>8.0</td><td>3.0</td><td>8.0</td><td>0.0</td><td>1.0</td><td>0.0</td><td>0.0</td><td>261.0</td><td>1.0</td><td>-1.0</td><td>0.0</td><td>1.1</td><td>93.994</td><td>-36.4</td><td>4.85</td><td>5191.0</td><td>0.0</td><td>1.0</td><td>0.0</td><td>0.0</td></tr>\n",
       "<tr><td>2008</td><td>44.0</td><td>6.0</td><td>2.0</td><td>7.0</td><td>0.0</td><td>1.0</td><td>0.0</td><td>0.0</td><td>151.0</td><td>1.0</td><td>-1.0</td><td>0.0</td><td>1.1</td><td>93.994</td><td>-36.4</td><td>4.85</td><td>5191.0</td><td>0.0</td><td>1.0</td><td>0.0</td><td>0.0</td></tr>\n",
       "<tr><td>2008</td><td>33.0</td><td>11.0</td><td>3.0</td><td>7.0</td><td>0.0</td><td>1.0</td><td>1.0</td><td>0.0</td><td>76.0</td><td>1.0</td><td>-1.0</td><td>0.0</td><td>1.1</td><td>93.994</td><td>-36.4</td><td>4.85</td><td>5191.0</td><td>0.0</td><td>1.0</td><td>0.0</td><td>0.0</td></tr>\n",
       "<tr><td>2008</td><td>47.0</td><td>5.0</td><td>3.0</td><td>7.0</td><td>0.0</td><td>1.0</td><td>0.0</td><td>0.0</td><td>92.0</td><td>1.0</td><td>-1.0</td><td>0.0</td><td>1.1</td><td>93.994</td><td>-36.4</td><td>4.85</td><td>5191.0</td><td>0.0</td><td>1.0</td><td>0.0</td><td>0.0</td></tr>\n",
       "<tr><td>2008</td><td>33.0</td><td>5.0</td><td>2.0</td><td>7.0</td><td>0.0</td><td>0.0</td><td>0.0</td><td>0.0</td><td>198.0</td><td>1.0</td><td>-1.0</td><td>0.0</td><td>1.1</td><td>93.994</td><td>-36.4</td><td>4.85</td><td>5191.0</td><td>0.0</td><td>1.0</td><td>0.0</td><td>0.0</td></tr>\n",
       "</table>\n"
      ],
      "text/plain": [
       "+----+----+----+-------+---------+-------+-------+----+-------+--------+--------+-----+--------+------------+--------------+-------------+----------+-----------+---+---+---+---+\n",
       "|year| age| job|marital|education|default|housing|loan|contact|duration|campaign|pdays|previous|emp_var_rate|cons_price_idx|cons_conf_idx|euribor_3m|nr_employed|  y| Q2| Q3| Q4|\n",
       "+----+----+----+-------+---------+-------+-------+----+-------+--------+--------+-----+--------+------------+--------------+-------------+----------+-----------+---+---+---+---+\n",
       "|2008|58.0| 8.0|    3.0|      8.0|    0.0|    1.0| 0.0|    0.0|   261.0|     1.0| -1.0|     0.0|         1.1|        93.994|        -36.4|      4.85|     5191.0|0.0|1.0|0.0|0.0|\n",
       "|2008|44.0| 6.0|    2.0|      7.0|    0.0|    1.0| 0.0|    0.0|   151.0|     1.0| -1.0|     0.0|         1.1|        93.994|        -36.4|      4.85|     5191.0|0.0|1.0|0.0|0.0|\n",
       "|2008|33.0|11.0|    3.0|      7.0|    0.0|    1.0| 1.0|    0.0|    76.0|     1.0| -1.0|     0.0|         1.1|        93.994|        -36.4|      4.85|     5191.0|0.0|1.0|0.0|0.0|\n",
       "|2008|47.0| 5.0|    3.0|      7.0|    0.0|    1.0| 0.0|    0.0|    92.0|     1.0| -1.0|     0.0|         1.1|        93.994|        -36.4|      4.85|     5191.0|0.0|1.0|0.0|0.0|\n",
       "|2008|33.0| 5.0|    2.0|      7.0|    0.0|    0.0| 0.0|    0.0|   198.0|     1.0| -1.0|     0.0|         1.1|        93.994|        -36.4|      4.85|     5191.0|0.0|1.0|0.0|0.0|\n",
       "+----+----+----+-------+---------+-------+-------+----+-------+--------+--------+-----+--------+------------+--------------+-------------+----------+-----------+---+---+---+---+"
      ]
     },
     "metadata": {},
     "output_type": "display_data"
    }
   ],
   "source": [
    "display(bank.limit(5))"
   ]
  },
  {
   "cell_type": "markdown",
   "id": "ec62f2f7",
   "metadata": {},
   "source": [
    "## Data Scaling"
   ]
  },
  {
   "cell_type": "code",
   "execution_count": 96,
   "id": "1ea0dd08",
   "metadata": {},
   "outputs": [],
   "source": [
    "#Min_max scaling to the selected columns\n",
    "from pyspark.ml.feature import MinMaxScaler\n",
    "from pyspark.ml.feature import VectorAssembler\n",
    "\n",
    "\n",
    "numerical_cols = ['year', 'age', 'job', 'marital', 'education', 'default', 'housing', 'loan', 'contact', 'duration', \n",
    "                  'emp_var_rate', 'cons_price_idx', 'cons_conf_idx', 'euribor_3m', \n",
    "                  'nr_employed', 'Q2', 'Q3', 'Q4']\n",
    "\n",
    "#numerical_cols = ['year', 'age', 'job', 'marital', 'education', 'default', 'housing', 'loan', 'duration', \n",
    "                   #'cons_price_idx', 'Q4']\n",
    "\n",
    "\n",
    "# Create a vector assembler to combine the numerical columns into a single vector\n",
    "assembler = VectorAssembler(inputCols=numerical_cols, outputCol=\"numerical_features\")\n",
    "\n",
    "# Transform the DataFrame to create the numerical features vector\n",
    "bank = assembler.transform(bank)\n",
    "\n",
    "# Apply MinMaxScaler to the numerical features vector\n",
    "scaler = MinMaxScaler(inputCol=\"numerical_features\", outputCol=\"scaled_numerical_features\")\n",
    "scaler_model = scaler.fit(bank)\n",
    "df = scaler_model.transform(bank)\n",
    "\n",
    "df = df.drop(\"numerical_features\")\n",
    "\n",
    "# Drop the original numerical columns and keep only the scaled numerical features\n",
    "bank = df.drop(*numerical_cols).withColumnRenamed(\"scaled_numerical_features\", \"sc_features\")\n"
   ]
  },
  {
   "cell_type": "code",
   "execution_count": 97,
   "id": "75175849",
   "metadata": {},
   "outputs": [
    {
     "data": {
      "text/html": [
       "<table border='1'>\n",
       "<tr><th>campaign</th><th>pdays</th><th>previous</th><th>y</th><th>sc_features</th></tr>\n",
       "<tr><td>1.0</td><td>-1.0</td><td>0.0</td><td>0.0</td><td>[0.0,0.7454545454...</td></tr>\n",
       "<tr><td>1.0</td><td>-1.0</td><td>0.0</td><td>0.0</td><td>[0.0,0.4909090909...</td></tr>\n",
       "<tr><td>1.0</td><td>-1.0</td><td>0.0</td><td>0.0</td><td>[0.0,0.2909090909...</td></tr>\n",
       "<tr><td>1.0</td><td>-1.0</td><td>0.0</td><td>0.0</td><td>[0.0,0.5454545454...</td></tr>\n",
       "<tr><td>1.0</td><td>-1.0</td><td>0.0</td><td>0.0</td><td>[0.0,0.2909090909...</td></tr>\n",
       "</table>\n"
      ],
      "text/plain": [
       "+--------+-----+--------+---+--------------------+\n",
       "|campaign|pdays|previous|  y|         sc_features|\n",
       "+--------+-----+--------+---+--------------------+\n",
       "|     1.0| -1.0|     0.0|0.0|[0.0,0.7454545454...|\n",
       "|     1.0| -1.0|     0.0|0.0|[0.0,0.4909090909...|\n",
       "|     1.0| -1.0|     0.0|0.0|[0.0,0.2909090909...|\n",
       "|     1.0| -1.0|     0.0|0.0|[0.0,0.5454545454...|\n",
       "|     1.0| -1.0|     0.0|0.0|[0.0,0.2909090909...|\n",
       "+--------+-----+--------+---+--------------------+"
      ]
     },
     "metadata": {},
     "output_type": "display_data"
    }
   ],
   "source": [
    "display(bank.limit(5))"
   ]
  },
  {
   "cell_type": "code",
   "execution_count": 98,
   "id": "ce4310f8",
   "metadata": {},
   "outputs": [],
   "source": [
    "banks = bank"
   ]
  },
  {
   "cell_type": "code",
   "execution_count": 99,
   "id": "02b0f750",
   "metadata": {},
   "outputs": [
    {
     "name": "stdout",
     "output_type": "stream",
     "text": [
      "+---+-----+\n",
      "|  y|count|\n",
      "+---+-----+\n",
      "|0.0|76470|\n",
      "|1.0| 9929|\n",
      "+---+-----+\n",
      "\n"
     ]
    }
   ],
   "source": [
    "# Count on Groupped Data\n",
    "banks.groupBy(\"y\").count().show()"
   ]
  },
  {
   "cell_type": "markdown",
   "id": "ee4ce91c",
   "metadata": {},
   "source": [
    "## OverSampling for unbalanced data"
   ]
  },
  {
   "cell_type": "code",
   "execution_count": 100,
   "id": "8665ef14",
   "metadata": {},
   "outputs": [
    {
     "data": {
      "text/html": [
       "<table border='1'>\n",
       "<tr><th>campaign</th><th>pdays</th><th>previous</th><th>y</th><th>sc_features</th></tr>\n",
       "<tr><td>1.0</td><td>-1.0</td><td>0.0</td><td>0.0</td><td>[0.0,0.7454545454...</td></tr>\n",
       "<tr><td>1.0</td><td>-1.0</td><td>0.0</td><td>0.0</td><td>[0.0,0.4909090909...</td></tr>\n",
       "<tr><td>1.0</td><td>-1.0</td><td>0.0</td><td>0.0</td><td>[0.0,0.2909090909...</td></tr>\n",
       "<tr><td>1.0</td><td>-1.0</td><td>0.0</td><td>0.0</td><td>[0.0,0.5454545454...</td></tr>\n",
       "<tr><td>1.0</td><td>-1.0</td><td>0.0</td><td>0.0</td><td>[0.0,0.2909090909...</td></tr>\n",
       "</table>\n"
      ],
      "text/plain": [
       "+--------+-----+--------+---+--------------------+\n",
       "|campaign|pdays|previous|  y|         sc_features|\n",
       "+--------+-----+--------+---+--------------------+\n",
       "|     1.0| -1.0|     0.0|0.0|[0.0,0.7454545454...|\n",
       "|     1.0| -1.0|     0.0|0.0|[0.0,0.4909090909...|\n",
       "|     1.0| -1.0|     0.0|0.0|[0.0,0.2909090909...|\n",
       "|     1.0| -1.0|     0.0|0.0|[0.0,0.5454545454...|\n",
       "|     1.0| -1.0|     0.0|0.0|[0.0,0.2909090909...|\n",
       "+--------+-----+--------+---+--------------------+"
      ]
     },
     "metadata": {},
     "output_type": "display_data"
    }
   ],
   "source": [
    "display(banks.limit(5))"
   ]
  },
  {
   "cell_type": "code",
   "execution_count": 101,
   "id": "2a806aa9",
   "metadata": {},
   "outputs": [
    {
     "name": "stdout",
     "output_type": "stream",
     "text": [
      "+---+-----+\n",
      "|  y|count|\n",
      "+---+-----+\n",
      "|0.0|76470|\n",
      "|1.0| 9929|\n",
      "+---+-----+\n",
      "\n"
     ]
    }
   ],
   "source": [
    "banks.groupBy(\"y\").count().show()"
   ]
  },
  {
   "cell_type": "code",
   "execution_count": 102,
   "id": "637b2f8c",
   "metadata": {},
   "outputs": [
    {
     "name": "stdout",
     "output_type": "stream",
     "text": [
      "['campaign', 'pdays', 'previous', 'y', 'sc_features']\n"
     ]
    }
   ],
   "source": [
    "#getting the names of columns of the dataframe\n",
    "feature = []\n",
    "for columns in banks.columns:\n",
    "    feature.append(columns)\n",
    "else:\n",
    "    print(feature)"
   ]
  },
  {
   "cell_type": "code",
   "execution_count": 103,
   "id": "78c34680",
   "metadata": {},
   "outputs": [],
   "source": [
    "from pyspark.ml.feature import VectorAssembler\n",
    "from pyspark.ml.classification import DecisionTreeClassifier\n",
    "from sklearn.metrics import ConfusionMatrixDisplay, accuracy_score, classification_report"
   ]
  },
  {
   "cell_type": "code",
   "execution_count": 104,
   "id": "5cefbef5",
   "metadata": {},
   "outputs": [
    {
     "data": {
      "text/plain": [
       "86399"
      ]
     },
     "execution_count": 104,
     "metadata": {},
     "output_type": "execute_result"
    }
   ],
   "source": [
    "banks.count()"
   ]
  },
  {
   "cell_type": "code",
   "execution_count": 105,
   "id": "a0b4c670",
   "metadata": {},
   "outputs": [
    {
     "data": {
      "text/html": [
       "<table border='1'>\n",
       "<tr><th>campaign</th><th>pdays</th><th>previous</th><th>y</th><th>sc_features</th></tr>\n",
       "<tr><td>1.0</td><td>-1.0</td><td>0.0</td><td>0.0</td><td>(18,[0,1,2,3,4,9,...</td></tr>\n",
       "<tr><td>1.0</td><td>-1.0</td><td>0.0</td><td>0.0</td><td>(18,[0,1,2,3,4,9,...</td></tr>\n",
       "<tr><td>1.0</td><td>-1.0</td><td>0.0</td><td>0.0</td><td>(18,[0,1,2,3,4,9,...</td></tr>\n",
       "<tr><td>1.0</td><td>-1.0</td><td>0.0</td><td>0.0</td><td>(18,[0,1,2,3,4,9,...</td></tr>\n",
       "<tr><td>1.0</td><td>-1.0</td><td>0.0</td><td>0.0</td><td>(18,[0,1,2,3,4,9,...</td></tr>\n",
       "</table>\n"
      ],
      "text/plain": [
       "+--------+-----+--------+---+--------------------+\n",
       "|campaign|pdays|previous|  y|         sc_features|\n",
       "+--------+-----+--------+---+--------------------+\n",
       "|     1.0| -1.0|     0.0|0.0|(18,[0,1,2,3,4,9,...|\n",
       "|     1.0| -1.0|     0.0|0.0|(18,[0,1,2,3,4,9,...|\n",
       "|     1.0| -1.0|     0.0|0.0|(18,[0,1,2,3,4,9,...|\n",
       "|     1.0| -1.0|     0.0|0.0|(18,[0,1,2,3,4,9,...|\n",
       "|     1.0| -1.0|     0.0|0.0|(18,[0,1,2,3,4,9,...|\n",
       "+--------+-----+--------+---+--------------------+"
      ]
     },
     "metadata": {},
     "output_type": "display_data"
    }
   ],
   "source": [
    "train_data, test_data = banks.randomSplit([0.70, 0.30], seed = 14)\n",
    "display(train_data.limit(5))"
   ]
  },
  {
   "cell_type": "code",
   "execution_count": 106,
   "id": "2a7ba695",
   "metadata": {},
   "outputs": [
    {
     "data": {
      "text/plain": [
       "60501"
      ]
     },
     "execution_count": 106,
     "metadata": {},
     "output_type": "execute_result"
    }
   ],
   "source": [
    "train_data.count()"
   ]
  },
  {
   "cell_type": "code",
   "execution_count": 107,
   "id": "cd5faca9",
   "metadata": {},
   "outputs": [
    {
     "data": {
      "text/plain": [
       "25898"
      ]
     },
     "execution_count": 107,
     "metadata": {},
     "output_type": "execute_result"
    }
   ],
   "source": [
    "test_data.count()"
   ]
  },
  {
   "cell_type": "markdown",
   "id": "f57721ee",
   "metadata": {},
   "source": [
    "## Decision Tree Classifier"
   ]
  },
  {
   "cell_type": "code",
   "execution_count": 108,
   "id": "9ee774db",
   "metadata": {},
   "outputs": [],
   "source": [
    "from pyspark.ml.classification import DecisionTreeClassifier as dd\n",
    "dt = dd(labelCol=\"y\",featuresCol='sc_features')\n",
    "model = dt.fit(train_data)\n",
    "predictions = model.transform(test_data)"
   ]
  },
  {
   "cell_type": "code",
   "execution_count": 109,
   "id": "3f34d4c4",
   "metadata": {},
   "outputs": [
    {
     "data": {
      "text/plain": [
       "<sklearn.metrics._plot.confusion_matrix.ConfusionMatrixDisplay at 0x1cd06ba45e0>"
      ]
     },
     "execution_count": 109,
     "metadata": {},
     "output_type": "execute_result"
    },
    {
     "data": {
      "image/png": "[encoded data removed]",
      "text/plain": [
       "<Figure size 432x288 with 2 Axes>"
      ]
     },
     "metadata": {
      "needs_background": "light"
     },
     "output_type": "display_data"
    }
   ],
   "source": [
    "pred = predictions.select('prediction').toPandas()\n",
    "actual = predictions.select('y').toPandas()\n",
    "from sklearn.metrics import accuracy_score, ConfusionMatrixDisplay, classification_report\n",
    "ConfusionMatrixDisplay.from_predictions(actual, pred)"
   ]
  },
  {
   "cell_type": "code",
   "execution_count": 110,
   "id": "44c0325f",
   "metadata": {},
   "outputs": [
    {
     "name": "stdout",
     "output_type": "stream",
     "text": [
      "              precision    recall  f1-score   support\n",
      "\n",
      "         0.0       0.94      0.95      0.95     22906\n",
      "         1.0       0.60      0.54      0.57      2992\n",
      "\n",
      "    accuracy                           0.91     25898\n",
      "   macro avg       0.77      0.75      0.76     25898\n",
      "weighted avg       0.90      0.91      0.90     25898\n",
      "\n"
     ]
    }
   ],
   "source": [
    "print(classification_report(actual, pred))"
   ]
  },
  {
   "cell_type": "markdown",
   "id": "7c818bf1",
   "metadata": {},
   "source": [
    "## Logistic Regression"
   ]
  },
  {
   "cell_type": "code",
   "execution_count": 111,
   "id": "c8f1038f",
   "metadata": {},
   "outputs": [],
   "source": [
    "from pyspark.ml.classification import LogisticRegression"
   ]
  },
  {
   "cell_type": "code",
   "execution_count": 112,
   "id": "8751e524",
   "metadata": {},
   "outputs": [],
   "source": [
    "lr = LogisticRegression(featuresCol = 'sc_features',\n",
    "                        labelCol = 'y',\n",
    "                        maxIter=1000)\n",
    "lr_model = lr.fit(train_data)\n",
    "lr_predictions = lr_model.transform(test_data)"
   ]
  },
  {
   "cell_type": "code",
   "execution_count": 113,
   "id": "8f57c16e",
   "metadata": {},
   "outputs": [
    {
     "data": {
      "text/plain": [
       "<sklearn.metrics._plot.confusion_matrix.ConfusionMatrixDisplay at 0x1cd064ce7f0>"
      ]
     },
     "execution_count": 113,
     "metadata": {},
     "output_type": "execute_result"
    },
    {
     "data": {
      "image/png": "[encoded data removed]",
      "text/plain": [
       "<Figure size 432x288 with 2 Axes>"
      ]
     },
     "metadata": {
      "needs_background": "light"
     },
     "output_type": "display_data"
    }
   ],
   "source": [
    "pred = lr_predictions.select('prediction').toPandas()\n",
    "actual = lr_predictions.select('y').toPandas()\n",
    "from sklearn.metrics import accuracy_score, ConfusionMatrixDisplay, classification_report\n",
    "ConfusionMatrixDisplay.from_predictions(actual, pred)"
   ]
  },
  {
   "cell_type": "code",
   "execution_count": 114,
   "id": "fa0aba92",
   "metadata": {},
   "outputs": [
    {
     "name": "stdout",
     "output_type": "stream",
     "text": [
      "              precision    recall  f1-score   support\n",
      "\n",
      "         0.0       0.92      0.97      0.95     22906\n",
      "         1.0       0.62      0.36      0.45      2992\n",
      "\n",
      "    accuracy                           0.90     25898\n",
      "   macro avg       0.77      0.66      0.70     25898\n",
      "weighted avg       0.89      0.90      0.89     25898\n",
      "\n"
     ]
    }
   ],
   "source": [
    "print(classification_report(actual, pred))"
   ]
  },
  {
   "cell_type": "markdown",
   "id": "b460b6d7",
   "metadata": {},
   "source": [
    "## Support Vector Machines"
   ]
  },
  {
   "cell_type": "code",
   "execution_count": 115,
   "id": "00ece8bf",
   "metadata": {},
   "outputs": [],
   "source": [
    "from pyspark.ml.classification import LinearSVC\n",
    "\n",
    "# Load training data\n",
    "lsvc = LinearSVC(featuresCol = 'sc_features', labelCol = 'y', maxIter=10, regParam=0.1)\n",
    "\n",
    "# Fit the model\n",
    "lsvcModel = lsvc.fit(train_data)"
   ]
  },
  {
   "cell_type": "code",
   "execution_count": 116,
   "id": "9dd591fa",
   "metadata": {},
   "outputs": [
    {
     "data": {
      "text/plain": [
       "<sklearn.metrics._plot.confusion_matrix.ConfusionMatrixDisplay at 0x1cd007797c0>"
      ]
     },
     "execution_count": 116,
     "metadata": {},
     "output_type": "execute_result"
    },
    {
     "data": {
      "image/png": "[encoded data removed]",
      "text/plain": [
       "<Figure size 432x288 with 2 Axes>"
      ]
     },
     "metadata": {
      "needs_background": "light"
     },
     "output_type": "display_data"
    }
   ],
   "source": [
    "svc_predictions = lsvcModel.transform(test_data)\n",
    "\n",
    "svc_pred = svc_predictions.select('prediction').toPandas()\n",
    "svc_actual = svc_predictions.select('y').toPandas()\n",
    "from sklearn.metrics import accuracy_score, ConfusionMatrixDisplay, classification_report\n",
    "ConfusionMatrixDisplay.from_predictions(svc_actual, svc_pred)"
   ]
  },
  {
   "cell_type": "code",
   "execution_count": 117,
   "id": "4b853e39",
   "metadata": {},
   "outputs": [
    {
     "name": "stdout",
     "output_type": "stream",
     "text": [
      "              precision    recall  f1-score   support\n",
      "\n",
      "         0.0       0.92      0.97      0.95     22906\n",
      "         1.0       0.62      0.36      0.45      2992\n",
      "\n",
      "    accuracy                           0.90     25898\n",
      "   macro avg       0.77      0.66      0.70     25898\n",
      "weighted avg       0.89      0.90      0.89     25898\n",
      "\n"
     ]
    }
   ],
   "source": [
    "print(classification_report(actual, pred))"
   ]
  },
  {
   "cell_type": "markdown",
   "id": "5f12bde2",
   "metadata": {},
   "source": [
    "## Random Forest"
   ]
  },
  {
   "cell_type": "code",
   "execution_count": 118,
   "id": "96c4eac6",
   "metadata": {},
   "outputs": [],
   "source": [
    "from pyspark.ml.classification import RandomForestClassifier\n",
    "\n",
    "rf = RandomForestClassifier(labelCol='y', featuresCol = 'sc_features')\n",
    "rf_model = rf.fit(train_data)\n",
    "predictions = rf_model.transform(test_data)"
   ]
  },
  {
   "cell_type": "code",
   "execution_count": 119,
   "id": "89f82cd7",
   "metadata": {},
   "outputs": [
    {
     "data": {
      "text/plain": [
       "<sklearn.metrics._plot.confusion_matrix.ConfusionMatrixDisplay at 0x1cd056fbf70>"
      ]
     },
     "execution_count": 119,
     "metadata": {},
     "output_type": "execute_result"
    },
    {
     "data": {
      "image/png": "[encoded data removed]",
      "text/plain": [
       "<Figure size 432x288 with 2 Axes>"
      ]
     },
     "metadata": {
      "needs_background": "light"
     },
     "output_type": "display_data"
    }
   ],
   "source": [
    "rf_prediction = model.transform(test_data)\n",
    "rf_preds = rf_prediction.select('prediction').toPandas()\n",
    "rf_actual = rf_prediction.select('y').toPandas()\n",
    "from sklearn.metrics import accuracy_score, ConfusionMatrixDisplay, classification_report\n",
    "ConfusionMatrixDisplay.from_predictions(rf_actual, rf_preds)"
   ]
  },
  {
   "cell_type": "code",
   "execution_count": 120,
   "id": "5b516c1a",
   "metadata": {},
   "outputs": [
    {
     "name": "stdout",
     "output_type": "stream",
     "text": [
      "              precision    recall  f1-score   support\n",
      "\n",
      "         0.0       0.92      0.97      0.95     22906\n",
      "         1.0       0.62      0.36      0.45      2992\n",
      "\n",
      "    accuracy                           0.90     25898\n",
      "   macro avg       0.77      0.66      0.70     25898\n",
      "weighted avg       0.89      0.90      0.89     25898\n",
      "\n"
     ]
    }
   ],
   "source": [
    "print(classification_report(actual, pred))"
   ]
  },
  {
   "cell_type": "code",
   "execution_count": null,
   "id": "c6af6015",
   "metadata": {},
   "outputs": [],
   "source": []
  },
  {
   "cell_type": "code",
   "execution_count": null,
   "id": "4d5eecfd",
   "metadata": {},
   "outputs": [],
   "source": []
  },
  {
   "cell_type": "code",
   "execution_count": null,
   "id": "7f0c0a91",
   "metadata": {},
   "outputs": [],
   "source": []
  }
 ],
 "metadata": {
  "kernelspec": {
   "display_name": "Python 3 (ipykernel)",
   "language": "python",
   "name": "python3"
  },
  "language_info": {
   "codemirror_mode": {
    "name": "ipython",
    "version": 3
   },
   "file_extension": ".py",
   "mimetype": "text/x-python",
   "name": "python",
   "nbconvert_exporter": "python",
   "pygments_lexer": "ipython3",
   "version": "3.9.12"
  }
 },
 "nbformat": 4,
 "nbformat_minor": 5
}
